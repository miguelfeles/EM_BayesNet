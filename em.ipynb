{
 "cells": [
  {
   "cell_type": "code",
   "execution_count": 1,
   "metadata": {
    "collapsed": true
   },
   "outputs": [],
   "source": [
    "import numpy as np\n",
    "from pomegranate import *\n",
    "import itertools"
   ]
  },
  {
   "cell_type": "markdown",
   "metadata": {},
   "source": [
    "### Trying bayes net in pomegranate"
   ]
  },
  {
   "cell_type": "code",
   "execution_count": 2,
   "metadata": {
    "collapsed": true
   },
   "outputs": [],
   "source": [
    "#generate example data\n",
    "n = 10\n",
    "h = BernoulliDistribution(0.3).sample(n)\n",
    "w = BernoulliDistribution(0.6).sample(n)\n",
    "l = BernoulliDistribution(0.7).sample(n) "
   ]
  },
  {
   "cell_type": "code",
   "execution_count": 3,
   "metadata": {
    "collapsed": true
   },
   "outputs": [],
   "source": [
    "# 1. Initialize parameters (uniform)\n",
    "\n",
    "height = DiscreteDistribution({'short':0.5, 'tall':0.5})\n",
    "weight = DiscreteDistribution({'low':0.5, 'high':0.5})\n",
    "sex = ConditionalProbabilityTable([\n",
    "    ['short', 'low', 'm', 0.5],\n",
    "    ['short', 'low', 'f', 0.5],\n",
    "    ['short', 'high', 'm', 0.5],\n",
    "    ['short', 'high', 'f', 0.5],\n",
    "    ['tall', 'low', 'm', 0.5],\n",
    "    ['tall', 'low', 'f', 0.5],\n",
    "    ['tall', 'high', 'm', 0.5],\n",
    "    ['tall', 'high', 'f', 0.5]], [height, weight] )\n",
    "hair = ConditionalProbabilityTable([\n",
    "    ['m', 'sh', 0.5],\n",
    "    ['m', 'long', 0.5],\n",
    "    ['f', 'sh', 0.5],\n",
    "    ['f', 'long', 0.5]], [sex] )\n",
    "    "
   ]
  },
  {
   "cell_type": "code",
   "execution_count": 4,
   "metadata": {
    "collapsed": true
   },
   "outputs": [],
   "source": [
    "# create state objects (nodes)\n",
    "\n",
    "s_h = State(height, name='height')\n",
    "s_w = State(weight, name='weight')\n",
    "s_s = State(sex, name='sex')\n",
    "s_l = State(hair, name='hair')"
   ]
  },
  {
   "cell_type": "code",
   "execution_count": 5,
   "metadata": {
    "collapsed": true
   },
   "outputs": [],
   "source": [
    "# create the model\n",
    "\n",
    "model = BayesianNetwork(\"Hair Length\")\n",
    "\n",
    "# Add the three states to the network \n",
    "\n",
    "model.add_states(s_h, s_w, s_s, s_l)"
   ]
  },
  {
   "cell_type": "code",
   "execution_count": 6,
   "metadata": {
    "collapsed": true
   },
   "outputs": [],
   "source": [
    "# build the DAG\n",
    "\n",
    "model.add_transition(s_h, s_s)\n",
    "model.add_transition(s_w, s_s)\n",
    "model.add_transition(s_s, s_l)\n",
    "model.bake()"
   ]
  },
  {
   "cell_type": "code",
   "execution_count": 13,
   "metadata": {},
   "outputs": [
    {
     "data": {
      "text/plain": [
       "array([ {\n",
       "    \"frozen\" :false,\n",
       "    \"class\" :\"Distribution\",\n",
       "    \"parameters\" :[\n",
       "        {\n",
       "            \"tall\" :0.0,\n",
       "            \"short\" :1.0\n",
       "        }\n",
       "    ],\n",
       "    \"name\" :\"DiscreteDistribution\"\n",
       "},\n",
       "       {\n",
       "    \"frozen\" :false,\n",
       "    \"class\" :\"Distribution\",\n",
       "    \"parameters\" :[\n",
       "        {\n",
       "            \"high\" :0.0,\n",
       "            \"low\" :1.0\n",
       "        }\n",
       "    ],\n",
       "    \"name\" :\"DiscreteDistribution\"\n",
       "},\n",
       "       {\n",
       "    \"frozen\" :false,\n",
       "    \"class\" :\"Distribution\",\n",
       "    \"parameters\" :[\n",
       "        {\n",
       "            \"m\" :0.5,\n",
       "            \"f\" :0.5\n",
       "        }\n",
       "    ],\n",
       "    \"name\" :\"DiscreteDistribution\"\n",
       "},\n",
       "       {\n",
       "    \"frozen\" :false,\n",
       "    \"class\" :\"Distribution\",\n",
       "    \"parameters\" :[\n",
       "        {\n",
       "            \"sh\" :0.5,\n",
       "            \"long\" :0.5\n",
       "        }\n",
       "    ],\n",
       "    \"name\" :\"DiscreteDistribution\"\n",
       "}], dtype=object)"
      ]
     },
     "execution_count": 13,
     "metadata": {},
     "output_type": "execute_result"
    }
   ],
   "source": [
    "model.predict_proba({'height':'short','weight':'low'})"
   ]
  },
  {
   "cell_type": "code",
   "execution_count": 8,
   "metadata": {},
   "outputs": [
    {
     "data": {
      "text/plain": [
       "['height', 'weight', 'sex', 'hair']"
      ]
     },
     "execution_count": 8,
     "metadata": {},
     "output_type": "execute_result"
    }
   ],
   "source": [
    "[state.name for state in model.states]"
   ]
  },
  {
   "cell_type": "code",
   "execution_count": 19,
   "metadata": {},
   "outputs": [
    {
     "data": {
      "text/plain": [
       "array([0, 1, 2], dtype=int32)"
      ]
     },
     "execution_count": 19,
     "metadata": {},
     "output_type": "execute_result"
    }
   ],
   "source": [
    "s_s.distribution.column_idxs"
   ]
  },
  {
   "cell_type": "code",
   "execution_count": 20,
   "metadata": {},
   "outputs": [
    {
     "data": {
      "text/plain": [
       "array([2, 3], dtype=int32)"
      ]
     },
     "execution_count": 20,
     "metadata": {},
     "output_type": "execute_result"
    }
   ],
   "source": [
    "s_l.distribution.column_idxs"
   ]
  },
  {
   "cell_type": "markdown",
   "metadata": {},
   "source": [
    "### A simple model for trying things "
   ]
  },
  {
   "cell_type": "code",
   "execution_count": 13,
   "metadata": {
    "collapsed": true
   },
   "outputs": [],
   "source": [
    "A = DiscreteDistribution({1:0.45,0:0.55})\n",
    "B = ConditionalProbabilityTable([\n",
    "    [1, 0, 0.3],\n",
    "    [1, 1, 0.7],\n",
    "    [0, 0, 0.4],\n",
    "    [0, 1, 0.6]], [A] )"
   ]
  },
  {
   "cell_type": "code",
   "execution_count": 14,
   "metadata": {
    "collapsed": true
   },
   "outputs": [],
   "source": [
    "s_A = State(A, name='A')\n",
    "s_B = State(B, name='B')"
   ]
  },
  {
   "cell_type": "code",
   "execution_count": 15,
   "metadata": {
    "collapsed": true
   },
   "outputs": [],
   "source": [
    "test_model = BayesianNetwork(\"test\")\n",
    "test_model.add_states(s_A, s_B)\n",
    "test_model.add_transition(s_A, s_B)\n",
    "test_model.bake()"
   ]
  },
  {
   "cell_type": "code",
   "execution_count": 5,
   "metadata": {
    "collapsed": true
   },
   "outputs": [],
   "source": [
    "name_list = [s.name for s in test_model.states]"
   ]
  },
  {
   "cell_type": "code",
   "execution_count": 36,
   "metadata": {
    "collapsed": true
   },
   "outputs": [],
   "source": [
    "test_model.states[0].distribution.parameters[0][0]=0.99"
   ]
  },
  {
   "cell_type": "code",
   "execution_count": 37,
   "metadata": {},
   "outputs": [
    {
     "data": {
      "text/plain": [
       "[{0: 0.99, 1: 0.45}]"
      ]
     },
     "execution_count": 37,
     "metadata": {},
     "output_type": "execute_result"
    }
   ],
   "source": [
    "test_model.states[0].distribution.parameters"
   ]
  },
  {
   "cell_type": "code",
   "execution_count": 38,
   "metadata": {},
   "outputs": [
    {
     "data": {
      "text/plain": [
       "[{\n",
       "     \"distribution\" : {\n",
       "         \"frozen\" : false,\n",
       "         \"class\" : \"Distribution\",\n",
       "         \"parameters\" : [\n",
       "             {\n",
       "                 \"1\" : 0.45,\n",
       "                 \"0\" : 0.99\n",
       "             }\n",
       "         ],\n",
       "         \"name\" : \"DiscreteDistribution\"\n",
       "     },\n",
       "     \"class\" : \"State\",\n",
       "     \"weight\" : 1.0,\n",
       "     \"name\" : \"A\"\n",
       " }, {\n",
       "     \"distribution\" : {\n",
       "         \"table\" : [\n",
       "             [\n",
       "                 \"0\",\n",
       "                 \"0\",\n",
       "                 \"0.4\"\n",
       "             ],\n",
       "             [\n",
       "                 \"0\",\n",
       "                 \"1\",\n",
       "                 \"0.6\"\n",
       "             ],\n",
       "             [\n",
       "                 \"1\",\n",
       "                 \"0\",\n",
       "                 \"0.3\"\n",
       "             ],\n",
       "             [\n",
       "                 \"1\",\n",
       "                 \"1\",\n",
       "                 \"0.7\"\n",
       "             ]\n",
       "         ],\n",
       "         \"parents\" : [\n",
       "             {\n",
       "                 \"frozen\" : false,\n",
       "                 \"class\" : \"Distribution\",\n",
       "                 \"parameters\" : [\n",
       "                     {\n",
       "                         \"1\" : 0.45,\n",
       "                         \"0\" : 0.99\n",
       "                     }\n",
       "                 ],\n",
       "                 \"name\" : \"DiscreteDistribution\"\n",
       "             }\n",
       "         ],\n",
       "         \"class\" : \"Distribution\",\n",
       "         \"name\" : \"ConditionalProbabilityTable\"\n",
       "     },\n",
       "     \"class\" : \"State\",\n",
       "     \"weight\" : 1.0,\n",
       "     \"name\" : \"B\"\n",
       " }]"
      ]
     },
     "execution_count": 38,
     "metadata": {},
     "output_type": "execute_result"
    }
   ],
   "source": [
    "test_model.states"
   ]
  },
  {
   "cell_type": "code",
   "execution_count": 6,
   "metadata": {
    "collapsed": true
   },
   "outputs": [],
   "source": [
    "# getting the conditional probability\n",
    "\n",
    "prob_B = test_model.predict_proba({'A':1})[1]"
   ]
  },
  {
   "cell_type": "code",
   "execution_count": 7,
   "metadata": {},
   "outputs": [
    {
     "data": {
      "text/plain": [
       "{\n",
       "    \"frozen\" :false,\n",
       "    \"class\" :\"Distribution\",\n",
       "    \"parameters\" :[\n",
       "        {\n",
       "            \"1\" :0.6999999999999998,\n",
       "            \"0\" :0.3000000000000001\n",
       "        }\n",
       "    ],\n",
       "    \"name\" :\"DiscreteDistribution\"\n",
       "}"
      ]
     },
     "execution_count": 7,
     "metadata": {},
     "output_type": "execute_result"
    }
   ],
   "source": [
    "prob_B"
   ]
  },
  {
   "cell_type": "code",
   "execution_count": 8,
   "metadata": {},
   "outputs": [
    {
     "data": {
      "text/plain": [
       "0.69999999999999984"
      ]
     },
     "execution_count": 8,
     "metadata": {},
     "output_type": "execute_result"
    }
   ],
   "source": [
    "prob_B.probability(1)"
   ]
  },
  {
   "cell_type": "code",
   "execution_count": 20,
   "metadata": {
    "collapsed": true
   },
   "outputs": [],
   "source": [
    "data = np.asarray([[0,1],[0,0],[1,1],[1,1],[0,0],[1,0],[0,0]])"
   ]
  },
  {
   "cell_type": "code",
   "execution_count": 19,
   "metadata": {},
   "outputs": [
    {
     "data": {
      "text/plain": [
       "{\n",
       "    \"frozen\" :false,\n",
       "    \"class\" :\"Distribution\",\n",
       "    \"parameters\" :[\n",
       "        {\n",
       "            \"1\" :0.42857142857142855,\n",
       "            \"0\" :0.5714285714285714\n",
       "        }\n",
       "    ],\n",
       "    \"name\" :\"DiscreteDistribution\"\n",
       "}"
      ]
     },
     "execution_count": 19,
     "metadata": {},
     "output_type": "execute_result"
    }
   ],
   "source": [
    "s_A.distribution.marginal()"
   ]
  },
  {
   "cell_type": "code",
   "execution_count": 22,
   "metadata": {},
   "outputs": [
    {
     "data": {
      "text/plain": [
       "{\n",
       "    \"states\" : [\n",
       "        {\n",
       "            \"distribution\" : {\n",
       "                \"frozen\" : false,\n",
       "                \"class\" : \"Distribution\",\n",
       "                \"parameters\" : [\n",
       "                    {\n",
       "                        \"1\" : 0.42857142857142855,\n",
       "                        \"0\" : 0.5714285714285714\n",
       "                    }\n",
       "                ],\n",
       "                \"name\" : \"DiscreteDistribution\"\n",
       "            },\n",
       "            \"class\" : \"State\",\n",
       "            \"weight\" : 1.0,\n",
       "            \"name\" : \"A\"\n",
       "        },\n",
       "        {\n",
       "            \"distribution\" : {\n",
       "                \"table\" : [\n",
       "                    [\n",
       "                        \"1\",\n",
       "                        \"0\",\n",
       "                        \"0.333333333333\"\n",
       "                    ],\n",
       "                    [\n",
       "                        \"1\",\n",
       "                        \"1\",\n",
       "                        \"0.666666666667\"\n",
       "                    ],\n",
       "                    [\n",
       "                        \"0\",\n",
       "                        \"0\",\n",
       "                        \"0.75\"\n",
       "                    ],\n",
       "                    [\n",
       "                        \"0\",\n",
       "                        \"1\",\n",
       "                        \"0.25\"\n",
       "                    ]\n",
       "                ],\n",
       "                \"parents\" : [\n",
       "                    {\n",
       "                        \"frozen\" : false,\n",
       "                        \"class\" : \"Distribution\",\n",
       "                        \"parameters\" : [\n",
       "                            {\n",
       "                                \"1\" : 0.42857142857142855,\n",
       "                                \"0\" : 0.5714285714285714\n",
       "                            }\n",
       "                        ],\n",
       "                        \"name\" : \"DiscreteDistribution\"\n",
       "                    }\n",
       "                ],\n",
       "                \"class\" : \"Distribution\",\n",
       "                \"name\" : \"ConditionalProbabilityTable\"\n",
       "            },\n",
       "            \"class\" : \"State\",\n",
       "            \"weight\" : 1.0,\n",
       "            \"name\" : \"B\"\n",
       "        }\n",
       "    ],\n",
       "    \"class\" : \"BayesianNetwork\",\n",
       "    \"structure\" : [\n",
       "        [],\n",
       "        [\n",
       "            0\n",
       "        ]\n",
       "    ],\n",
       "    \"name\" : \"test\"\n",
       "}"
      ]
     },
     "execution_count": 22,
     "metadata": {},
     "output_type": "execute_result"
    }
   ],
   "source": [
    "test_model.fit(data)"
   ]
  },
  {
   "cell_type": "code",
   "execution_count": 11,
   "metadata": {},
   "outputs": [
    {
     "data": {
      "text/plain": [
       "array([ {\n",
       "    \"frozen\" :false,\n",
       "    \"class\" :\"Distribution\",\n",
       "    \"parameters\" :[\n",
       "        {\n",
       "            \"1\" :0.42857142857142866,\n",
       "            \"0\" :0.5714285714285714\n",
       "        }\n",
       "    ],\n",
       "    \"name\" :\"DiscreteDistribution\"\n",
       "},\n",
       "       {\n",
       "    \"frozen\" :false,\n",
       "    \"class\" :\"Distribution\",\n",
       "    \"parameters\" :[\n",
       "        {\n",
       "            \"1\" :0.4285714285714286,\n",
       "            \"0\" :0.5714285714285713\n",
       "        }\n",
       "    ],\n",
       "    \"name\" :\"DiscreteDistribution\"\n",
       "}], dtype=object)"
      ]
     },
     "execution_count": 11,
     "metadata": {},
     "output_type": "execute_result"
    }
   ],
   "source": [
    "test_model.predict_proba()"
   ]
  },
  {
   "cell_type": "code",
   "execution_count": 15,
   "metadata": {},
   "outputs": [
    {
     "data": {
      "text/plain": [
       "pomegranate.BayesianNetwork.BayesianNetwork"
      ]
     },
     "execution_count": 15,
     "metadata": {},
     "output_type": "execute_result"
    }
   ],
   "source": [
    "type(test_model)"
   ]
  },
  {
   "cell_type": "markdown",
   "metadata": {},
   "source": [
    "### Model for testing 2"
   ]
  },
  {
   "cell_type": "code",
   "execution_count": 10,
   "metadata": {
    "collapsed": true
   },
   "outputs": [],
   "source": [
    "A = DiscreteDistribution({'1':0.2, '0':0.8})\n",
    "H = ConditionalProbabilityTable([\n",
    "        ['0', '0', 0.4],\n",
    "        ['0', '1', 0.6],\n",
    "        ['1', '0', 0.3],\n",
    "        ['1', '1', 0.7]], [A])\n",
    "B = ConditionalProbabilityTable([\n",
    "        ['0', '0', 0.6],\n",
    "        ['0', '1', 0.4],\n",
    "        ['1', '0', 0.5],\n",
    "        ['1', '1', 0.5]], [H])"
   ]
  },
  {
   "cell_type": "code",
   "execution_count": 11,
   "metadata": {
    "collapsed": true
   },
   "outputs": [],
   "source": [
    "s_A = State(A, name='A')\n",
    "s_H = State(H, name='H')\n",
    "s_B = State(B, name='B')"
   ]
  },
  {
   "cell_type": "code",
   "execution_count": 12,
   "metadata": {
    "collapsed": true
   },
   "outputs": [],
   "source": [
    "test_model2 = BayesianNetwork(\"test2\")\n",
    "test_model2.add_states(s_A, s_H, s_B)\n",
    "test_model2.add_transition(s_A, s_H)\n",
    "test_model2.add_transition(s_H, s_B)\n",
    "test_model2.bake()"
   ]
  },
  {
   "cell_type": "markdown",
   "metadata": {},
   "source": [
    "Data:"
   ]
  },
  {
   "cell_type": "code",
   "execution_count": 25,
   "metadata": {
    "collapsed": true
   },
   "outputs": [],
   "source": [
    "data2 = np.array([[0, np.nan, 0],\n",
    "                   [0, np.nan, 1],\n",
    "                   [1, np.nan, 0],\n",
    "                   [1, np.nan, 1],\n",
    "                   [1, np.nan, 0],\n",
    "                   [0, np.nan, 1],\n",
    "                   [1, np.nan, 1],\n",
    "                   [1, np.nan, 0]], dtype='str')"
   ]
  },
  {
   "cell_type": "code",
   "execution_count": 26,
   "metadata": {},
   "outputs": [
    {
     "data": {
      "text/plain": [
       "array([['0', '0'],\n",
       "       ['0', '1'],\n",
       "       ['1', '0'],\n",
       "       ['1', '1'],\n",
       "       ['1', '0'],\n",
       "       ['0', '1'],\n",
       "       ['1', '1'],\n",
       "       ['1', '0']], \n",
       "      dtype='|S3')"
      ]
     },
     "execution_count": 26,
     "metadata": {},
     "output_type": "execute_result"
    }
   ],
   "source": [
    "data2[:, [0,2]]"
   ]
  },
  {
   "cell_type": "markdown",
   "metadata": {},
   "source": [
    "Test:"
   ]
  },
  {
   "cell_type": "code",
   "execution_count": 10,
   "metadata": {
    "collapsed": true
   },
   "outputs": [],
   "source": [
    "mb2 = MarkovBlanket(1)\n",
    "mb2.populate(test_model2)\n",
    "mb2.calculate_prob(test_model2)"
   ]
  },
  {
   "cell_type": "code",
   "execution_count": 13,
   "metadata": {},
   "outputs": [
    {
     "data": {
      "text/plain": [
       "{1: {('0', '0'): 0.4, ('0', '1'): 0.6, ('1', '0'): 0.3, ('1', '1'): 0.7},\n",
       " 2: {('0', '0'): 0.6, ('0', '1'): 0.4, ('1', '0'): 0.5, ('1', '1'): 0.5}}"
      ]
     },
     "execution_count": 13,
     "metadata": {},
     "output_type": "execute_result"
    }
   ],
   "source": [
    "mb2.prob_table"
   ]
  },
  {
   "cell_type": "code",
   "execution_count": 87,
   "metadata": {
    "collapsed": true
   },
   "outputs": [],
   "source": [
    "expected_counts2 = create_expected_counts(test_model2, mb2) "
   ]
  },
  {
   "cell_type": "code",
   "execution_count": 88,
   "metadata": {},
   "outputs": [
    {
     "data": {
      "text/plain": [
       "{(0, 0, 0): 0,\n",
       " (0, 0, 1): 0,\n",
       " (0, 1, 0): 0,\n",
       " (0, 1, 1): 0,\n",
       " (1, 0, 0): 0,\n",
       " (1, 0, 1): 0,\n",
       " (1, 1, 0): 0,\n",
       " (1, 1, 1): 0}"
      ]
     },
     "execution_count": 88,
     "metadata": {},
     "output_type": "execute_result"
    }
   ],
   "source": [
    "expected_counts2"
   ]
  },
  {
   "cell_type": "code",
   "execution_count": 110,
   "metadata": {},
   "outputs": [
    {
     "name": "stdout",
     "output_type": "stream",
     "text": [
      "{(0, 1): 0.46, (1, 0): 0.53, (0, 0): 0.54, (1, 1): 0.47}\n"
     ]
    }
   ],
   "source": [
    "expected_counts2 = update_expected_counts(expected_counts2, test_model2, mb2)"
   ]
  },
  {
   "cell_type": "code",
   "execution_count": 111,
   "metadata": {},
   "outputs": [
    {
     "data": {
      "text/plain": [
       "{(0, 0, 0): 0.4444444444444444,\n",
       " (0, 0, 1): 0.3478260869565218,\n",
       " (0, 1, 0): 0.33962264150943394,\n",
       " (0, 1, 1): 0.2553191489361702,\n",
       " (1, 0, 0): 0.5555555555555555,\n",
       " (1, 0, 1): 0.6521739130434782,\n",
       " (1, 1, 0): 0.660377358490566,\n",
       " (1, 1, 1): 0.7446808510638298}"
      ]
     },
     "execution_count": 111,
     "metadata": {},
     "output_type": "execute_result"
    }
   ],
   "source": [
    "expected_counts2"
   ]
  },
  {
   "cell_type": "code",
   "execution_count": 105,
   "metadata": {},
   "outputs": [
    {
     "data": {
      "text/plain": [
       "[0]"
      ]
     },
     "execution_count": 105,
     "metadata": {},
     "output_type": "execute_result"
    }
   ],
   "source": [
    "mb2.parents"
   ]
  },
  {
   "cell_type": "markdown",
   "metadata": {},
   "source": [
    "## Building the EM"
   ]
  },
  {
   "cell_type": "markdown",
   "metadata": {},
   "source": [
    "Steps:\n",
    "1. Initialize parameters with near uniform values.\n",
    "2. Build the model with the initialized parameters. \n",
    "3. Expectation: Calculate the expected counts for the hidden variables. Update the data for the hidden variables. \n",
    "4. Maximization: Calculate MLE for all parameters by summing over expected counts. \n",
    "5. Update the model with the new parameter values.\n",
    "6. Iterate 3-5 until converges.\n"
   ]
  },
  {
   "cell_type": "code",
   "execution_count": 2,
   "metadata": {
    "collapsed": true
   },
   "outputs": [],
   "source": [
    "def search_hidden(data):\n",
    "    \"\"\"Returns the column index of the hidden node if only one column of NaN.\n",
    "    Only works if data is numeric.\n",
    "    \n",
    "    Parameters\n",
    "    ----------\n",
    "    data : An ndarray (n_sample, n_nodes)\n",
    "    \n",
    "    Returns\n",
    "    -------\n",
    "    ind_h : the index of the hidden node column\n",
    "    \"\"\"\n",
    "    is_col_nan = np.all(np.isnan(data), axis=0)\n",
    "    ind = np.where(is_col_nan)\n",
    "    if np.size(ind)==1:\n",
    "        ind_h = ind[0][0]\n",
    "    else:\n",
    "        raise ValueError('Data contains more than one hidden nodes or no hidden node')\n",
    "    return ind_h\n",
    "    "
   ]
  },
  {
   "cell_type": "code",
   "execution_count": 3,
   "metadata": {
    "collapsed": true
   },
   "outputs": [],
   "source": [
    "class MarkovBlanket():\n",
    "    \"\"\"\n",
    "    An object for storing info on nodes within the markov blanket of the hidden node\n",
    "    \n",
    "    Parameters\n",
    "    ----------\n",
    "    ind_h : int\n",
    "        index of the hidden node within the model\n",
    "        \n",
    "    Attributes\n",
    "    ----------\n",
    "    hidden : int\n",
    "        index of the hidden node\n",
    "        \n",
    "    parents : list of int\n",
    "        a list of indices of the parent nodes \n",
    "        \n",
    "    children : list of int\n",
    "        a list of indices of the children nodes\n",
    "        \n",
    "    coparents : list of int\n",
    "        a list of indices of the coparent nodes\n",
    "        \n",
    "    prob_table : dict\n",
    "        a dict of probabilities table of nodes within the Markov blanket\n",
    "    \n",
    "    \"\"\"\n",
    "    \n",
    "    def __init__(self, ind_h):\n",
    "        self.hidden = ind_h\n",
    "        self.parents = []\n",
    "        self.children = []\n",
    "        self.coparents = []\n",
    "        self.prob_table = {}\n",
    "        \n",
    "    def populate(self, model):\n",
    "        \"\"\"populate the parents, children, and coparents nodes\n",
    "        \"\"\"\n",
    "        state_indices = {state.name : i for i, state in enumerate(model.states)}\n",
    "        \n",
    "        edges_list = [(parent.name, child.name) for parent, child in model.edges]\n",
    "        edges_list = [(state_indices[parent],state_indices[child]) \n",
    "                  for parent, child in edges_list]\n",
    "        \n",
    "        self.children = list(set([child for parent, child in edges_list if parent==self.hidden]))\n",
    "        self.parents = list(set([parent for parent, child in edges_list if child==self.hidden]))\n",
    "        self.coparents = list(set([parent for parent, child in edges_list if child in self.children]))\n",
    "        try:\n",
    "            self.coparents.remove(self.hidden)\n",
    "        except ValueError:\n",
    "            pass\n",
    "            \n",
    "    def calculate_prob(self, model):\n",
    "        \"\"\"Create the probability table from states\n",
    "        \"\"\"\n",
    "        for ind_state in [self.hidden]+self.children:\n",
    "            distribution = model.states[ind_state].distribution\n",
    "            \n",
    "            if isinstance(distribution, ConditionalProbabilityTable):\n",
    "                table = distribution.parameters[0]\n",
    "                self.prob_table[ind_state] = {\n",
    "                    tuple(row[:-1]) : row[-1] for row in table}\n",
    "            else:\n",
    "                self.prob_table[ind_state] = distribution.parameters[0]\n",
    "        \n",
    "        print 'MarkovBlanket prob_table = ', self.prob_table\n",
    "                \n",
    "    def update_prob(self, model, expected_counts, ct):\n",
    "        \"\"\"Update the probability table using expected counts\n",
    "        \"\"\"\n",
    "        ind = {x : i for i, x in enumerate([self.hidden] + self.parents + self.children + self.coparents)}\n",
    "        mb_keys = expected_counts.counts.keys()\n",
    "        \n",
    "        for ind_state in [self.hidden] + self.children:\n",
    "            distribution = model.states[ind_state].distribution\n",
    "            \n",
    "            if isinstance(distribution, ConditionalProbabilityTable):\n",
    "                idxs = distribution.column_idxs\n",
    "                table = self.prob_table[ind_state] # dict\n",
    "                \n",
    "                # calculate the new parameter for this key\n",
    "                for key in table.keys():\n",
    "                    num = 0\n",
    "                    denom = 0\n",
    "                    \n",
    "                    # marginal counts\n",
    "                    for mb_key in mb_keys:\n",
    "                        # marginal counts of node + parents\n",
    "                        if tuple([mb_key[ind[x]] for x in idxs]) == key:\n",
    "                            num += ct.table[mb_key[1:]]*expected_counts.counts[mb_key] \n",
    "                            \n",
    "                        # marginal counts of parents\n",
    "                        if tuple([mb_key[ind[x]] for x in idxs[:-1]]) == key[:-1]:\n",
    "                            denom += ct.table[mb_key[1:]]*expected_counts.counts[mb_key]\n",
    "                            \n",
    "                    try:\n",
    "                        prob = num/denom\n",
    "                    except ZeroDivisionError:\n",
    "                        prob = 0\n",
    "                        \n",
    "                    # update the parameter\n",
    "                    table[key] = prob\n",
    "                    \n",
    "            else: # DiscreteProb\n",
    "                table = self.prob_table[ind_state] # dict \n",
    "                \n",
    "                # calculate the new parameter for this key\n",
    "                for key in table.keys():\n",
    "                    prob = 0\n",
    "                    print ' key = ', key\n",
    "                    for mb_key in mb_keys:\n",
    "                        if mb_key[ind[ind_state]] == key:\n",
    "                            prob += ct.table[mb_key[1:]]*expected_counts.counts[mb_key]\n",
    "                    \n",
    "                    # update the parameter\n",
    "                    print ' new prob = ', prob\n",
    "                    table[key] = prob\n",
    "                \n",
    "        "
   ]
  },
  {
   "cell_type": "code",
   "execution_count": 4,
   "metadata": {
    "collapsed": true
   },
   "outputs": [],
   "source": [
    "class ExpectedCounts():\n",
    "    \n",
    "    def __init__(self, model, mb):\n",
    "        self.counts = {}\n",
    "        \n",
    "        self.populate(model, mb)\n",
    "        \n",
    "    def populate(self, model, mb):\n",
    "        #create combinations of keys\n",
    "        keys_list = [model.states[mb.hidden].distribution.keys()]\n",
    "        for ind in mb.parents + mb.children + mb.coparents:\n",
    "            keys_list.append(model.states[ind].distribution.keys())\n",
    "        \n",
    "        self.counts = {p:0 for p in itertools.product(*keys_list)}\n",
    "        \n",
    "    def update(self, model, mb):\n",
    "        ind = {x : i for i, x in enumerate([mb.hidden] + mb.parents + mb.children + mb.coparents)}\n",
    "    \n",
    "        marginal_prob = {}\n",
    "    \n",
    "        # calculate joint probability and marginal probability\n",
    "        for i, key in enumerate(self.counts.keys()):\n",
    "            prob = 1\n",
    "        \n",
    "            for j, ind_state in enumerate([mb.hidden] + mb.children):\n",
    "                distribution = model.states[ind_state].distribution\n",
    "            \n",
    "                if isinstance(distribution, ConditionalProbabilityTable):\n",
    "                    idxs = distribution.column_idxs\n",
    "                    state_key = tuple([key[ind[x]] for x in idxs])\n",
    "                else:\n",
    "                    state_key = key[ind[ind_state]]\n",
    "                \n",
    "                prob = prob*mb.prob_table[ind_state][state_key]         \n",
    "                self.counts[key] = prob\n",
    "            try:\n",
    "                marginal_prob[key[1:]] += prob\n",
    "            except KeyError:\n",
    "                marginal_prob[key[1:]] = prob\n",
    "                 \n",
    "        # divide the joint prob by the marginal prob to get the conditional\n",
    "        for i, key in enumerate(self.counts.keys()):\n",
    "            try:\n",
    "                self.counts[key] = self.counts[key]/marginal_prob[key[1:]]\n",
    "            except ZeroDivisionError:\n",
    "                self.counts[key] = 0\n",
    "        "
   ]
  },
  {
   "cell_type": "code",
   "execution_count": 5,
   "metadata": {
    "collapsed": true
   },
   "outputs": [],
   "source": [
    "class CountTable():\n",
    "    \n",
    "    def __init__(self, model, mb, items):\n",
    "        \"\"\"\n",
    "        Parameters\n",
    "        ----------\n",
    "        model : BayesianNetwork object\n",
    "        \n",
    "        mb : MarkovBlanket object\n",
    "        \n",
    "        items : ndarray\n",
    "            columns are data for parents, children, coparents\n",
    "        \n",
    "        \"\"\"\n",
    "        self.table ={}\n",
    "        \n",
    "        self.populate(model, mb, items)\n",
    "        \n",
    "    def populate(self, model, mb, items):\n",
    "        keys_list = []\n",
    "        for ind in mb.parents + mb.children + mb.coparents:\n",
    "            keys_list.append(model.states[ind].distribution.keys())\n",
    "        \n",
    "        # init\n",
    "        self.table = {p:0 for p in itertools.product(*keys_list)}\n",
    "        print 'CountTable table = ', self.table\n",
    "        \n",
    "        # count\n",
    "        for i, row in enumerate(items):\n",
    "            try:\n",
    "                print 'CountTable row :', tuple(row)\n",
    "                self.table[tuple(row)] += 1\n",
    "            except KeyError:\n",
    "                print 'Items in row', i, 'does not match the set of keys.'\n",
    "                raise KeyError\n",
    "    "
   ]
  },
  {
   "cell_type": "code",
   "execution_count": 22,
   "metadata": {
    "collapsed": true
   },
   "outputs": [],
   "source": [
    "def em_bayesnet(model, data, ind_h, max_iter = 30, criteria = 0.005):\n",
    "    \"\"\"Returns the data array with the hidden node filled in.\n",
    "    (model is not modified.)\n",
    "    \n",
    "    Parameters\n",
    "    ----------\n",
    "    model : a BayesianNetwork object\n",
    "        an already baked BayesianNetwork object with initialized parameters\n",
    "        \n",
    "    data : an ndarray\n",
    "        each column is the data for the node in the same order as the nodes in the model\n",
    "        the hidden node should be a column of NaNs\n",
    "        \n",
    "    ind_h : int\n",
    "        index of the hidden node\n",
    "        \n",
    "    max_iter : int\n",
    "        max number of iterations\n",
    "        \n",
    "    criteria : float between 0 and 1\n",
    "        the change in probability in consecutive iterations, below this value counts as convergence \n",
    "        \n",
    "    Returns\n",
    "    -------\n",
    "    data : an ndarray\n",
    "        the same data arary with the hidden node column filled in\n",
    "    \"\"\"\n",
    "    \n",
    "    # convert data to string\n",
    "    #data = data.astype('str')\n",
    "    print 'em_bayesnet data = ', data\n",
    "    \n",
    "    # create the Markov blanket object for the hidden node\n",
    "    mb = MarkovBlanket(ind_h)\n",
    "    mb.populate(model)\n",
    "    mb.calculate_prob(model)\n",
    "    \n",
    "    # create the count table from data\n",
    "    items = data[:, mb.parents + mb.children + mb.coparents]\n",
    "    ct = CountTable(model, mb, items)\n",
    "    \n",
    "    # create expected counts\n",
    "    expected_counts = ExpectedCounts(model, mb)\n",
    "    expected_counts.update(model, mb)\n",
    "    \n",
    "    # ---- iterate over the E-M steps\n",
    "    i = 0\n",
    "    previous_params = np.array(mb.prob_table[mb.hidden].values())\n",
    "    criteria = 0.01\n",
    "    convergence = False\n",
    "    \n",
    "    while (not convergence) and (i < max_iter):\n",
    "        mb.update_prob(model, expected_counts, ct)\n",
    "        expected_counts.update(model, mb)\n",
    "        \n",
    "        # convergence criteria\n",
    "        hidden_params = np.array(mb.prob_table[mb.hidden].values())\n",
    "        change = abs(hidden_params - previous_params)\n",
    "        print change\n",
    "        convergence = max(change) < criteria\n",
    "        previous_params = np.array(mb.prob_table[mb.hidden].values())\n",
    "        \n",
    "        i += 1\n",
    "        \n",
    "    if i == max_iter:\n",
    "        print 'Maximum iterations reached.'\n",
    "        \n",
    "    # ---- Fill in the missing data\n",
    "    \n",
    "    \n",
    "    #idxs = model.states[mb.hidden].distribution.column_idxs\n",
    "    # create a table mapping parents to value of the hidden node\n",
    "    #fill_table = {}\n",
    "    #for key, value in mb.prob_table[mb.hidden].items():\n",
    "    #    try:\n",
    "    #        if value > fill_table[key[:-1]][1]:\n",
    "    #            fill_table[key[:-1]] = (key[-1], value)\n",
    "    #    except:\n",
    "    #        fill_table[key[:-1]] = (key[-1], value)\n",
    "    #fill_table = { key : value[0] for key, value in fill_table.items() }\n",
    "    \n",
    "    # create a table mapping mb to value of the hidden node\n",
    "    fill_table = {}\n",
    "    for key, value in expected_counts.counts.items():\n",
    "        try:\n",
    "            if value > fill_table[key[1:]][1]:\n",
    "                fill_table[key[1:]] = (key[0], value)\n",
    "        except KeyError:\n",
    "            fill_table[key[1:]] = (key[0], value)\n",
    "    fill_table = { key : value[0] for key, value in fill_table.items() }\n",
    "    \n",
    "    # fill\n",
    "    ind = mb.parents + mb.children + mb.coparents\n",
    "    for i, row in enumerate(data):\n",
    "        key = tuple(row[ind])\n",
    "        data[i][mb.hidden] = fill_table[key]\n",
    "        \n",
    "    return data\n",
    "    "
   ]
  },
  {
   "cell_type": "code",
   "execution_count": 27,
   "metadata": {},
   "outputs": [
    {
     "data": {
      "text/plain": [
       "array([['0', '1', '0'],\n",
       "       ['0', '1', '1'],\n",
       "       ['1', '1', '0'],\n",
       "       ['1', '1', '1'],\n",
       "       ['1', '1', '0'],\n",
       "       ['0', '1', '1'],\n",
       "       ['1', '1', '1'],\n",
       "       ['1', '1', '0']], \n",
       "      dtype='|S3')"
      ]
     },
     "execution_count": 27,
     "metadata": {},
     "output_type": "execute_result"
    }
   ],
   "source": [
    "em_bayesnet(test_model2, data2, 1)"
   ]
  },
  {
   "cell_type": "code",
   "execution_count": 78,
   "metadata": {},
   "outputs": [
    {
     "data": {
      "text/plain": [
       "array([[  0.,  nan,   0.],\n",
       "       [  0.,  nan,   1.],\n",
       "       [  1.,  nan,   0.],\n",
       "       [  1.,  nan,   1.],\n",
       "       [  1.,  nan,   0.],\n",
       "       [  0.,  nan,   1.],\n",
       "       [  1.,  nan,   1.],\n",
       "       [  1.,  nan,   0.]])"
      ]
     },
     "execution_count": 78,
     "metadata": {},
     "output_type": "execute_result"
    }
   ],
   "source": [
    "data2"
   ]
  },
  {
   "cell_type": "code",
   "execution_count": 14,
   "metadata": {
    "collapsed": true
   },
   "outputs": [],
   "source": [
    "mb2 = MarkovBlanket(1)\n",
    "mb2.populate(test_model2)\n",
    "mb2.calculate_prob(test_model2)"
   ]
  },
  {
   "cell_type": "code",
   "execution_count": 14,
   "metadata": {
    "collapsed": true
   },
   "outputs": [],
   "source": [
    "ct = CountTable(test_model2, mb2, data2[:,[0,2]])"
   ]
  },
  {
   "cell_type": "code",
   "execution_count": 16,
   "metadata": {},
   "outputs": [
    {
     "data": {
      "text/plain": [
       "{('0', '0'): 1, ('0', '1'): 2, ('1', '0'): 3, ('1', '1'): 2}"
      ]
     },
     "execution_count": 16,
     "metadata": {},
     "output_type": "execute_result"
    }
   ],
   "source": [
    "ct.table"
   ]
  },
  {
   "cell_type": "code",
   "execution_count": 18,
   "metadata": {
    "collapsed": true
   },
   "outputs": [],
   "source": [
    "expected_counts = ExpectedCounts(test_model2, mb2)"
   ]
  },
  {
   "cell_type": "code",
   "execution_count": 20,
   "metadata": {
    "collapsed": true
   },
   "outputs": [],
   "source": [
    "expected_counts.update(test_model2, mb2)"
   ]
  },
  {
   "cell_type": "code",
   "execution_count": 21,
   "metadata": {},
   "outputs": [
    {
     "data": {
      "text/plain": [
       "{('0', '0', '0'): 0.4444444444444444,\n",
       " ('0', '0', '1'): 0.3478260869565218,\n",
       " ('0', '1', '0'): 0.33962264150943394,\n",
       " ('0', '1', '1'): 0.2553191489361702,\n",
       " ('1', '0', '0'): 0.5555555555555555,\n",
       " ('1', '0', '1'): 0.6521739130434782,\n",
       " ('1', '1', '0'): 0.660377358490566,\n",
       " ('1', '1', '1'): 0.7446808510638298}"
      ]
     },
     "execution_count": 21,
     "metadata": {},
     "output_type": "execute_result"
    }
   ],
   "source": [
    "expected_counts.counts"
   ]
  },
  {
   "cell_type": "code",
   "execution_count": 59,
   "metadata": {},
   "outputs": [
    {
     "data": {
      "text/plain": [
       "{1: {('0', '0'): 0.3800322061191627,\n",
       "  ('0', '1'): 0.6199677938808373,\n",
       "  ('1', '0'): 0.30590124448012845,\n",
       "  ('1', '1'): 0.6940987555198715},\n",
       " 2: {('0', '0'): 0.5481386019791565,\n",
       "  ('0', '1'): 0.4518613980208435,\n",
       "  ('1', '0'): 0.4758909243055429,\n",
       "  ('1', '1'): 0.5241090756944571}}"
      ]
     },
     "execution_count": 59,
     "metadata": {},
     "output_type": "execute_result"
    }
   ],
   "source": [
    "mb2.prob_table"
   ]
  },
  {
   "cell_type": "code",
   "execution_count": 53,
   "metadata": {},
   "outputs": [
    {
     "data": {
      "text/plain": [
       "{('f', 'long'): 0.5, ('f', 'sh'): 0.5, ('m', 'long'): 0.5, ('m', 'sh'): 0.5}"
      ]
     },
     "execution_count": 53,
     "metadata": {},
     "output_type": "execute_result"
    }
   ],
   "source": [
    "mb.prob_table[3]"
   ]
  },
  {
   "cell_type": "code",
   "execution_count": 52,
   "metadata": {},
   "outputs": [
    {
     "data": {
      "text/plain": [
       "{('f', 'short', 'high', 'long'): 0.25,\n",
       " ('f', 'short', 'high', 'sh'): 0.25,\n",
       " ('f', 'short', 'low', 'long'): 0.25,\n",
       " ('f', 'short', 'low', 'sh'): 0.25,\n",
       " ('f', 'tall', 'high', 'long'): 0.25,\n",
       " ('f', 'tall', 'high', 'sh'): 0.25,\n",
       " ('f', 'tall', 'low', 'long'): 0.25,\n",
       " ('f', 'tall', 'low', 'sh'): 0.25,\n",
       " ('m', 'short', 'high', 'long'): 0.25,\n",
       " ('m', 'short', 'high', 'sh'): 0.25,\n",
       " ('m', 'short', 'low', 'long'): 0.25,\n",
       " ('m', 'short', 'low', 'sh'): 0.25,\n",
       " ('m', 'tall', 'high', 'long'): 0.25,\n",
       " ('m', 'tall', 'high', 'sh'): 0.25,\n",
       " ('m', 'tall', 'low', 'long'): 0.25,\n",
       " ('m', 'tall', 'low', 'sh'): 0.25}"
      ]
     },
     "execution_count": 52,
     "metadata": {},
     "output_type": "execute_result"
    }
   ],
   "source": [
    "expected_counts"
   ]
  },
  {
   "cell_type": "code",
   "execution_count": 18,
   "metadata": {},
   "outputs": [
    {
     "data": {
      "text/plain": [
       "[['short', 'low', 'm', 0.5],\n",
       " ['short', 'low', 'f', 0.5],\n",
       " ['short', 'high', 'm', 0.5],\n",
       " ['short', 'high', 'f', 0.5],\n",
       " ['tall', 'low', 'm', 0.5],\n",
       " ['tall', 'low', 'f', 0.5],\n",
       " ['tall', 'high', 'm', 0.5],\n",
       " ['tall', 'high', 'f', 0.5]]"
      ]
     },
     "execution_count": 18,
     "metadata": {},
     "output_type": "execute_result"
    }
   ],
   "source": [
    "model.states[2].distribution.parameters[0]"
   ]
  },
  {
   "cell_type": "markdown",
   "metadata": {},
   "source": [
    "Funtional tests\n",
    "Requirements:\n",
    "1. data with NaN outside of the hidden node should raise exception\n",
    "2. correct output for input data of type str, int, mixed"
   ]
  },
  {
   "cell_type": "code",
   "execution_count": null,
   "metadata": {
    "collapsed": true
   },
   "outputs": [],
   "source": []
  },
  {
   "cell_type": "code",
   "execution_count": 10,
   "metadata": {
    "collapsed": true
   },
   "outputs": [],
   "source": [
    "import unittest"
   ]
  },
  {
   "cell_type": "code",
   "execution_count": 11,
   "metadata": {
    "collapsed": true
   },
   "outputs": [],
   "source": [
    "class RainTest():\n",
    "    def test_sprinkler(self):\n",
    "        data = np.array([[0,np.nan,0,0],\n",
    "               [0,np.nan,0,0],\n",
    "               [0,np.nan,0,1],\n",
    "               [0,np.nan,1,1],\n",
    "               [1,np.nan,0,0],\n",
    "               [1,np.nan,1,1],\n",
    "               [1,np.nan,1,1],\n",
    "               [1,np.nan,1,1]])\n",
    "        cloudy = DiscreteDistribution({0:0.5,1:0.5})\n",
    "        sprinkler = ConditionalProbabilityTable([\n",
    "            [1, 0, 0.75],\n",
    "            [1, 1, 0.25],\n",
    "            [0, 0, 0.5],\n",
    "            [0, 1, 0.5]], [cloudy] )\n",
    "        rain = ConditionalProbabilityTable([\n",
    "            [1, 0, 0.25],\n",
    "            [1, 1, 0.75],\n",
    "            [0, 0, 0.75],\n",
    "            [0, 1, 0.25]], [cloudy] )\n",
    "        wetgrass = ConditionalProbabilityTable([\n",
    "            [0, 0, 0, 1.0],\n",
    "            [0, 0, 1, 0.0],\n",
    "            [0, 1, 0, 0.0],\n",
    "            [0, 1, 1, 1.0],\n",
    "            [1, 0, 0, 0.0],\n",
    "            [1, 0, 1, 1.0],\n",
    "            [1, 1, 0, 0.0],\n",
    "            [1, 1, 1, 1.0]], [sprinkler, rain] )\n",
    "        \n",
    "        s_c = State(cloudy, 'cloudy')\n",
    "        s_s = State(sprinkler, 'sprinkler')\n",
    "        s_r = State(rain, 'rain')\n",
    "        s_w = State(wetgrass, 'wetgrass')\n",
    "        \n",
    "        model = BayesianNetwork('wet')\n",
    "        model.add_states(s_c, s_s, s_r, s_w)\n",
    "        model.add_transition(s_c, s_s)\n",
    "        model.add_transition(s_c, s_r)\n",
    "        model.add_transition(s_s, s_w)\n",
    "        model.add_transition(s_r, s_w)\n",
    "        model.bake()\n",
    "        \n",
    "        new_data = em_bayesnet(model, data, 1)\n",
    "        \n",
    "        print new_data[:,1]\n",
    "\n",
    "#if __name__ == \"__main__\":\n",
    "#    unittest.main()"
   ]
  },
  {
   "cell_type": "code",
   "execution_count": 23,
   "metadata": {
    "collapsed": true
   },
   "outputs": [],
   "source": [
    "class RainTest():\n",
    "    def test_sprinkler(self):\n",
    "        data = np.array([[0,np.nan,0,0],\n",
    "               [0,np.nan,0,0],\n",
    "               [0,np.nan,0,1],\n",
    "               [0,np.nan,1,1],\n",
    "               [1,np.nan,0,0],\n",
    "               [1,np.nan,1,1],\n",
    "               [1,np.nan,1,1],\n",
    "               [1,np.nan,1,1]])\n",
    "        cloudy = DiscreteDistribution({0:0.4,1:0.6})\n",
    "        sprinkler = ConditionalProbabilityTable([\n",
    "            [1, 0, 0.7],\n",
    "            [1, 1, 0.23],\n",
    "            [0, 0, 0.4],\n",
    "            [0, 1, 0.6]], [cloudy] )\n",
    "        rain = ConditionalProbabilityTable([\n",
    "            [1, 0, 0.2],\n",
    "            [1, 1, 0.8],\n",
    "            [0, 0, 0.7],\n",
    "            [0, 1, 0.3]], [cloudy] )\n",
    "        wetgrass = ConditionalProbabilityTable([\n",
    "            [0, 0, 0, 0.8],\n",
    "            [0, 0, 1, 0.2],\n",
    "            [0, 1, 0, 0.1],\n",
    "            [0, 1, 1, 0.9],\n",
    "            [1, 0, 0, 0.1],\n",
    "            [1, 0, 1, 0.9],\n",
    "            [1, 1, 0, 0.1],\n",
    "            [1, 1, 1, 0.9]], [sprinkler, rain] )\n",
    "        \n",
    "        s_c = State(cloudy, 'cloudy')\n",
    "        s_s = State(sprinkler, 'sprinkler')\n",
    "        s_r = State(rain, 'rain')\n",
    "        s_w = State(wetgrass, 'wetgrass')\n",
    "        \n",
    "        model = BayesianNetwork('wet')\n",
    "        model.add_states(s_c, s_s, s_r, s_w)\n",
    "        model.add_transition(s_c, s_s)\n",
    "        model.add_transition(s_c, s_r)\n",
    "        model.add_transition(s_s, s_w)\n",
    "        model.add_transition(s_r, s_w)\n",
    "        model.bake()\n",
    "        \n",
    "        new_data = em_bayesnet(model, data, 1)\n",
    "        \n",
    "        print new_data\n",
    "\n",
    "#if __name__ == \"__main__\":\n",
    "#    unittest.main()"
   ]
  },
  {
   "cell_type": "code",
   "execution_count": 24,
   "metadata": {},
   "outputs": [],
   "source": [
    "test = RainTest()"
   ]
  },
  {
   "cell_type": "code",
   "execution_count": 25,
   "metadata": {},
   "outputs": [
    {
     "name": "stdout",
     "output_type": "stream",
     "text": [
      "em_bayesnet data =  [[  0.  nan   0.   0.]\n",
      " [  0.  nan   0.   0.]\n",
      " [  0.  nan   0.   1.]\n",
      " [  0.  nan   1.   1.]\n",
      " [  1.  nan   0.   0.]\n",
      " [  1.  nan   1.   1.]\n",
      " [  1.  nan   1.   1.]\n",
      " [  1.  nan   1.   1.]]\n",
      "MarkovBlanket prob_table =  {1: {(0, 1): 0.6, (1, 0): 0.7, (0, 0): 0.4, (1, 1): 0.23}, 3: {(0, 1, 1): 0.9, (1, 1, 0): 0.1, (1, 0, 0): 0.1, (0, 0, 1): 0.2, (1, 0, 1): 0.9, (0, 0, 0): 0.8, (0, 1, 0): 0.1, (1, 1, 1): 0.9}}\n",
      "CountTable table =  {(0, 1, 1): 0, (1, 1, 0): 0, (1, 0, 0): 0, (0, 0, 1): 0, (1, 0, 1): 0, (0, 0, 0): 0, (0, 1, 0): 0, (1, 1, 1): 0}\n",
      "CountTable row : (0.0, 0.0, 0.0)\n",
      "CountTable row : (0.0, 0.0, 0.0)\n",
      "CountTable row : (0.0, 1.0, 0.0)\n",
      "CountTable row : (0.0, 1.0, 1.0)\n",
      "CountTable row : (1.0, 0.0, 0.0)\n",
      "CountTable row : (1.0, 1.0, 1.0)\n",
      "CountTable row : (1.0, 1.0, 1.0)\n",
      "CountTable row : (1.0, 1.0, 1.0)\n",
      "[ 0.1533107   0.10465335  0.1533107   0.03465335]\n",
      "[ 0.00528861  0.03166255  0.00528861  0.03166255]\n",
      "[ 0.01270834  0.02518209  0.01270834  0.02518209]\n",
      "[ 0.01268642  0.02139549  0.01268642  0.02139549]\n",
      "[ 0.01045257  0.01827844  0.01045257  0.01827844]\n",
      "[ 0.00831566  0.01555799  0.00831566  0.01555799]\n",
      "[ 0.00657567  0.01318875  0.00657567  0.01318875]\n",
      "[ 0.00521374  0.01114513  0.00521374  0.01114513]\n",
      "[ 0.00416004  0.0093973   0.00416004  0.0093973 ]\n",
      "[[ 0.  0.  0.  0.]\n",
      " [ 0.  0.  0.  0.]\n",
      " [ 0.  1.  0.  1.]\n",
      " [ 0.  1.  1.  1.]\n",
      " [ 1.  0.  0.  0.]\n",
      " [ 1.  0.  1.  1.]\n",
      " [ 1.  0.  1.  1.]\n",
      " [ 1.  0.  1.  1.]]\n"
     ]
    }
   ],
   "source": [
    "test.test_sprinkler()"
   ]
  },
  {
   "cell_type": "code",
   "execution_count": null,
   "metadata": {
    "collapsed": true
   },
   "outputs": [],
   "source": []
  }
 ],
 "metadata": {
  "kernelspec": {
   "display_name": "Python 2",
   "language": "python",
   "name": "python2"
  },
  "language_info": {
   "codemirror_mode": {
    "name": "ipython",
    "version": 2
   },
   "file_extension": ".py",
   "mimetype": "text/x-python",
   "name": "python",
   "nbconvert_exporter": "python",
   "pygments_lexer": "ipython2",
   "version": "2.7.13"
  }
 },
 "nbformat": 4,
 "nbformat_minor": 2
}
