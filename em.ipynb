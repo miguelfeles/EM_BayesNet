{
 "cells": [
  {
   "cell_type": "code",
   "execution_count": 1,
   "metadata": {
    "collapsed": true
   },
   "outputs": [],
   "source": [
    "import numpy as np\n",
    "from pomegranate import *\n",
    "import itertools"
   ]
  },
  {
   "cell_type": "markdown",
   "metadata": {},
   "source": [
    "### Trying bayes net in pomegranate"
   ]
  },
  {
   "cell_type": "code",
   "execution_count": 2,
   "metadata": {
    "collapsed": true
   },
   "outputs": [],
   "source": [
    "#generate example data\n",
    "n = 10\n",
    "h = BernoulliDistribution(0.3).sample(n)\n",
    "w = BernoulliDistribution(0.6).sample(n)\n",
    "l = BernoulliDistribution(0.7).sample(n) "
   ]
  },
  {
   "cell_type": "code",
   "execution_count": 3,
   "metadata": {
    "collapsed": true
   },
   "outputs": [],
   "source": [
    "# 1. Initialize parameters (uniform)\n",
    "\n",
    "height = DiscreteDistribution({'short':0.5, 'tall':0.5})\n",
    "weight = DiscreteDistribution({'low':0.5, 'high':0.5})\n",
    "sex = ConditionalProbabilityTable([\n",
    "    ['short', 'low', 'm', 0.5],\n",
    "    ['short', 'low', 'f', 0.5],\n",
    "    ['short', 'high', 'm', 0.5],\n",
    "    ['short', 'high', 'f', 0.5],\n",
    "    ['tall', 'low', 'm', 0.5],\n",
    "    ['tall', 'low', 'f', 0.5],\n",
    "    ['tall', 'high', 'm', 0.5],\n",
    "    ['tall', 'high', 'f', 0.5]], [height, weight] )\n",
    "hair = ConditionalProbabilityTable([\n",
    "    ['m', 'sh', 0.5],\n",
    "    ['m', 'long', 0.5],\n",
    "    ['f', 'sh', 0.5],\n",
    "    ['f', 'long', 0.5]], [sex] )\n",
    "    "
   ]
  },
  {
   "cell_type": "code",
   "execution_count": 4,
   "metadata": {
    "collapsed": true
   },
   "outputs": [],
   "source": [
    "# create state objects (nodes)\n",
    "\n",
    "s_h = State(height, name='height')\n",
    "s_w = State(weight, name='weight')\n",
    "s_s = State(sex, name='sex')\n",
    "s_l = State(hair, name='hair')"
   ]
  },
  {
   "cell_type": "code",
   "execution_count": 5,
   "metadata": {
    "collapsed": true
   },
   "outputs": [],
   "source": [
    "# create the model\n",
    "\n",
    "model = BayesianNetwork(\"Hair Length\")\n",
    "\n",
    "# Add the three states to the network \n",
    "\n",
    "model.add_states(s_h, s_w, s_s, s_l)"
   ]
  },
  {
   "cell_type": "code",
   "execution_count": 6,
   "metadata": {
    "collapsed": true
   },
   "outputs": [],
   "source": [
    "# build the DAG\n",
    "\n",
    "model.add_transition(s_h, s_s)\n",
    "model.add_transition(s_w, s_s)\n",
    "model.add_transition(s_s, s_l)\n",
    "model.bake()"
   ]
  },
  {
   "cell_type": "code",
   "execution_count": 13,
   "metadata": {},
   "outputs": [
    {
     "data": {
      "text/plain": [
       "array([ {\n",
       "    \"frozen\" :false,\n",
       "    \"class\" :\"Distribution\",\n",
       "    \"parameters\" :[\n",
       "        {\n",
       "            \"tall\" :0.0,\n",
       "            \"short\" :1.0\n",
       "        }\n",
       "    ],\n",
       "    \"name\" :\"DiscreteDistribution\"\n",
       "},\n",
       "       {\n",
       "    \"frozen\" :false,\n",
       "    \"class\" :\"Distribution\",\n",
       "    \"parameters\" :[\n",
       "        {\n",
       "            \"high\" :0.0,\n",
       "            \"low\" :1.0\n",
       "        }\n",
       "    ],\n",
       "    \"name\" :\"DiscreteDistribution\"\n",
       "},\n",
       "       {\n",
       "    \"frozen\" :false,\n",
       "    \"class\" :\"Distribution\",\n",
       "    \"parameters\" :[\n",
       "        {\n",
       "            \"m\" :0.5,\n",
       "            \"f\" :0.5\n",
       "        }\n",
       "    ],\n",
       "    \"name\" :\"DiscreteDistribution\"\n",
       "},\n",
       "       {\n",
       "    \"frozen\" :false,\n",
       "    \"class\" :\"Distribution\",\n",
       "    \"parameters\" :[\n",
       "        {\n",
       "            \"sh\" :0.5,\n",
       "            \"long\" :0.5\n",
       "        }\n",
       "    ],\n",
       "    \"name\" :\"DiscreteDistribution\"\n",
       "}], dtype=object)"
      ]
     },
     "execution_count": 13,
     "metadata": {},
     "output_type": "execute_result"
    }
   ],
   "source": [
    "model.predict_proba({'height':'short','weight':'low'})"
   ]
  },
  {
   "cell_type": "code",
   "execution_count": 8,
   "metadata": {},
   "outputs": [
    {
     "data": {
      "text/plain": [
       "['height', 'weight', 'sex', 'hair']"
      ]
     },
     "execution_count": 8,
     "metadata": {},
     "output_type": "execute_result"
    }
   ],
   "source": [
    "[state.name for state in model.states]"
   ]
  },
  {
   "cell_type": "code",
   "execution_count": 19,
   "metadata": {},
   "outputs": [
    {
     "data": {
      "text/plain": [
       "array([0, 1, 2], dtype=int32)"
      ]
     },
     "execution_count": 19,
     "metadata": {},
     "output_type": "execute_result"
    }
   ],
   "source": [
    "s_s.distribution.column_idxs"
   ]
  },
  {
   "cell_type": "code",
   "execution_count": 20,
   "metadata": {},
   "outputs": [
    {
     "data": {
      "text/plain": [
       "array([2, 3], dtype=int32)"
      ]
     },
     "execution_count": 20,
     "metadata": {},
     "output_type": "execute_result"
    }
   ],
   "source": [
    "s_l.distribution.column_idxs"
   ]
  },
  {
   "cell_type": "markdown",
   "metadata": {},
   "source": [
    "### A simple model for trying things "
   ]
  },
  {
   "cell_type": "code",
   "execution_count": 24,
   "metadata": {
    "collapsed": true
   },
   "outputs": [],
   "source": [
    "A = DiscreteDistribution({1:0.45,0:0.55})\n",
    "B = ConditionalProbabilityTable([\n",
    "    [1, 0, 0.3],\n",
    "    [1, 1, 0.7],\n",
    "    [0, 0, 0.4],\n",
    "    [0, 1, 0.6]], [A] )"
   ]
  },
  {
   "cell_type": "code",
   "execution_count": 25,
   "metadata": {
    "collapsed": true
   },
   "outputs": [],
   "source": [
    "s_A = State(A, name='A')\n",
    "s_B = State(B, name='B')"
   ]
  },
  {
   "cell_type": "code",
   "execution_count": 26,
   "metadata": {
    "collapsed": true
   },
   "outputs": [],
   "source": [
    "test_model = BayesianNetwork(\"test\")\n",
    "test_model.add_states(s_A, s_B)\n",
    "test_model.add_transition(s_A, s_B)\n",
    "test_model.bake()"
   ]
  },
  {
   "cell_type": "code",
   "execution_count": 5,
   "metadata": {
    "collapsed": true
   },
   "outputs": [],
   "source": [
    "name_list = [s.name for s in test_model.states]"
   ]
  },
  {
   "cell_type": "code",
   "execution_count": 36,
   "metadata": {
    "collapsed": true
   },
   "outputs": [],
   "source": [
    "test_model.states[0].distribution.parameters[0][0]=0.99"
   ]
  },
  {
   "cell_type": "code",
   "execution_count": 37,
   "metadata": {},
   "outputs": [
    {
     "data": {
      "text/plain": [
       "[{0: 0.99, 1: 0.45}]"
      ]
     },
     "execution_count": 37,
     "metadata": {},
     "output_type": "execute_result"
    }
   ],
   "source": [
    "test_model.states[0].distribution.parameters"
   ]
  },
  {
   "cell_type": "code",
   "execution_count": 38,
   "metadata": {},
   "outputs": [
    {
     "data": {
      "text/plain": [
       "[{\n",
       "     \"distribution\" : {\n",
       "         \"frozen\" : false,\n",
       "         \"class\" : \"Distribution\",\n",
       "         \"parameters\" : [\n",
       "             {\n",
       "                 \"1\" : 0.45,\n",
       "                 \"0\" : 0.99\n",
       "             }\n",
       "         ],\n",
       "         \"name\" : \"DiscreteDistribution\"\n",
       "     },\n",
       "     \"class\" : \"State\",\n",
       "     \"weight\" : 1.0,\n",
       "     \"name\" : \"A\"\n",
       " }, {\n",
       "     \"distribution\" : {\n",
       "         \"table\" : [\n",
       "             [\n",
       "                 \"0\",\n",
       "                 \"0\",\n",
       "                 \"0.4\"\n",
       "             ],\n",
       "             [\n",
       "                 \"0\",\n",
       "                 \"1\",\n",
       "                 \"0.6\"\n",
       "             ],\n",
       "             [\n",
       "                 \"1\",\n",
       "                 \"0\",\n",
       "                 \"0.3\"\n",
       "             ],\n",
       "             [\n",
       "                 \"1\",\n",
       "                 \"1\",\n",
       "                 \"0.7\"\n",
       "             ]\n",
       "         ],\n",
       "         \"parents\" : [\n",
       "             {\n",
       "                 \"frozen\" : false,\n",
       "                 \"class\" : \"Distribution\",\n",
       "                 \"parameters\" : [\n",
       "                     {\n",
       "                         \"1\" : 0.45,\n",
       "                         \"0\" : 0.99\n",
       "                     }\n",
       "                 ],\n",
       "                 \"name\" : \"DiscreteDistribution\"\n",
       "             }\n",
       "         ],\n",
       "         \"class\" : \"Distribution\",\n",
       "         \"name\" : \"ConditionalProbabilityTable\"\n",
       "     },\n",
       "     \"class\" : \"State\",\n",
       "     \"weight\" : 1.0,\n",
       "     \"name\" : \"B\"\n",
       " }]"
      ]
     },
     "execution_count": 38,
     "metadata": {},
     "output_type": "execute_result"
    }
   ],
   "source": [
    "test_model.states"
   ]
  },
  {
   "cell_type": "code",
   "execution_count": 6,
   "metadata": {
    "collapsed": true
   },
   "outputs": [],
   "source": [
    "# getting the conditional probability\n",
    "\n",
    "prob_B = test_model.predict_proba({'A':1})[1]"
   ]
  },
  {
   "cell_type": "code",
   "execution_count": 7,
   "metadata": {},
   "outputs": [
    {
     "data": {
      "text/plain": [
       "{\n",
       "    \"frozen\" :false,\n",
       "    \"class\" :\"Distribution\",\n",
       "    \"parameters\" :[\n",
       "        {\n",
       "            \"1\" :0.6999999999999998,\n",
       "            \"0\" :0.3000000000000001\n",
       "        }\n",
       "    ],\n",
       "    \"name\" :\"DiscreteDistribution\"\n",
       "}"
      ]
     },
     "execution_count": 7,
     "metadata": {},
     "output_type": "execute_result"
    }
   ],
   "source": [
    "prob_B"
   ]
  },
  {
   "cell_type": "code",
   "execution_count": 8,
   "metadata": {},
   "outputs": [
    {
     "data": {
      "text/plain": [
       "0.69999999999999984"
      ]
     },
     "execution_count": 8,
     "metadata": {},
     "output_type": "execute_result"
    }
   ],
   "source": [
    "prob_B.probability(1)"
   ]
  },
  {
   "cell_type": "code",
   "execution_count": 20,
   "metadata": {
    "collapsed": true
   },
   "outputs": [],
   "source": [
    "data = np.asarray([[0,1],[0,0],[1,1],[1,1],[0,0],[1,0],[0,0]])"
   ]
  },
  {
   "cell_type": "code",
   "execution_count": 19,
   "metadata": {},
   "outputs": [
    {
     "data": {
      "text/plain": [
       "{\n",
       "    \"frozen\" :false,\n",
       "    \"class\" :\"Distribution\",\n",
       "    \"parameters\" :[\n",
       "        {\n",
       "            \"1\" :0.42857142857142855,\n",
       "            \"0\" :0.5714285714285714\n",
       "        }\n",
       "    ],\n",
       "    \"name\" :\"DiscreteDistribution\"\n",
       "}"
      ]
     },
     "execution_count": 19,
     "metadata": {},
     "output_type": "execute_result"
    }
   ],
   "source": [
    "s_A.distribution.marginal()"
   ]
  },
  {
   "cell_type": "code",
   "execution_count": 22,
   "metadata": {},
   "outputs": [
    {
     "data": {
      "text/plain": [
       "{\n",
       "    \"states\" : [\n",
       "        {\n",
       "            \"distribution\" : {\n",
       "                \"frozen\" : false,\n",
       "                \"class\" : \"Distribution\",\n",
       "                \"parameters\" : [\n",
       "                    {\n",
       "                        \"1\" : 0.42857142857142855,\n",
       "                        \"0\" : 0.5714285714285714\n",
       "                    }\n",
       "                ],\n",
       "                \"name\" : \"DiscreteDistribution\"\n",
       "            },\n",
       "            \"class\" : \"State\",\n",
       "            \"weight\" : 1.0,\n",
       "            \"name\" : \"A\"\n",
       "        },\n",
       "        {\n",
       "            \"distribution\" : {\n",
       "                \"table\" : [\n",
       "                    [\n",
       "                        \"1\",\n",
       "                        \"0\",\n",
       "                        \"0.333333333333\"\n",
       "                    ],\n",
       "                    [\n",
       "                        \"1\",\n",
       "                        \"1\",\n",
       "                        \"0.666666666667\"\n",
       "                    ],\n",
       "                    [\n",
       "                        \"0\",\n",
       "                        \"0\",\n",
       "                        \"0.75\"\n",
       "                    ],\n",
       "                    [\n",
       "                        \"0\",\n",
       "                        \"1\",\n",
       "                        \"0.25\"\n",
       "                    ]\n",
       "                ],\n",
       "                \"parents\" : [\n",
       "                    {\n",
       "                        \"frozen\" : false,\n",
       "                        \"class\" : \"Distribution\",\n",
       "                        \"parameters\" : [\n",
       "                            {\n",
       "                                \"1\" : 0.42857142857142855,\n",
       "                                \"0\" : 0.5714285714285714\n",
       "                            }\n",
       "                        ],\n",
       "                        \"name\" : \"DiscreteDistribution\"\n",
       "                    }\n",
       "                ],\n",
       "                \"class\" : \"Distribution\",\n",
       "                \"name\" : \"ConditionalProbabilityTable\"\n",
       "            },\n",
       "            \"class\" : \"State\",\n",
       "            \"weight\" : 1.0,\n",
       "            \"name\" : \"B\"\n",
       "        }\n",
       "    ],\n",
       "    \"class\" : \"BayesianNetwork\",\n",
       "    \"structure\" : [\n",
       "        [],\n",
       "        [\n",
       "            0\n",
       "        ]\n",
       "    ],\n",
       "    \"name\" : \"test\"\n",
       "}"
      ]
     },
     "execution_count": 22,
     "metadata": {},
     "output_type": "execute_result"
    }
   ],
   "source": [
    "test_model.fit(data)"
   ]
  },
  {
   "cell_type": "code",
   "execution_count": 11,
   "metadata": {},
   "outputs": [
    {
     "data": {
      "text/plain": [
       "array([ {\n",
       "    \"frozen\" :false,\n",
       "    \"class\" :\"Distribution\",\n",
       "    \"parameters\" :[\n",
       "        {\n",
       "            \"1\" :0.42857142857142866,\n",
       "            \"0\" :0.5714285714285714\n",
       "        }\n",
       "    ],\n",
       "    \"name\" :\"DiscreteDistribution\"\n",
       "},\n",
       "       {\n",
       "    \"frozen\" :false,\n",
       "    \"class\" :\"Distribution\",\n",
       "    \"parameters\" :[\n",
       "        {\n",
       "            \"1\" :0.4285714285714286,\n",
       "            \"0\" :0.5714285714285713\n",
       "        }\n",
       "    ],\n",
       "    \"name\" :\"DiscreteDistribution\"\n",
       "}], dtype=object)"
      ]
     },
     "execution_count": 11,
     "metadata": {},
     "output_type": "execute_result"
    }
   ],
   "source": [
    "test_model.predict_proba()"
   ]
  },
  {
   "cell_type": "code",
   "execution_count": 15,
   "metadata": {},
   "outputs": [
    {
     "data": {
      "text/plain": [
       "pomegranate.BayesianNetwork.BayesianNetwork"
      ]
     },
     "execution_count": 15,
     "metadata": {},
     "output_type": "execute_result"
    }
   ],
   "source": [
    "type(test_model)"
   ]
  },
  {
   "cell_type": "markdown",
   "metadata": {},
   "source": [
    "### Model for testing 2"
   ]
  },
  {
   "cell_type": "code",
   "execution_count": 12,
   "metadata": {
    "collapsed": true
   },
   "outputs": [],
   "source": [
    "A = DiscreteDistribution({'1':0.2, '0':0.8})\n",
    "H = ConditionalProbabilityTable([\n",
    "        ['0', '0', 0.4],\n",
    "        ['0', '1', 0.6],\n",
    "        ['1', '0', 0.3],\n",
    "        ['1', '1', 0.7]], [A])\n",
    "B = ConditionalProbabilityTable([\n",
    "        ['0', '0', 0.6],\n",
    "        ['0', '1', 0.4],\n",
    "        ['1', '0', 0.5],\n",
    "        ['1', '1', 0.5]], [H])"
   ]
  },
  {
   "cell_type": "code",
   "execution_count": 13,
   "metadata": {
    "collapsed": true
   },
   "outputs": [],
   "source": [
    "s_A = State(A, name='A')\n",
    "s_H = State(H, name='H')\n",
    "s_B = State(B, name='B')"
   ]
  },
  {
   "cell_type": "code",
   "execution_count": 14,
   "metadata": {},
   "outputs": [],
   "source": [
    "test_model2 = BayesianNetwork(\"test2\")\n",
    "test_model2.add_states(s_A, s_H, s_B)\n",
    "test_model2.add_transition(s_A, s_H)\n",
    "test_model2.add_transition(s_H, s_B)\n",
    "test_model2.bake()"
   ]
  },
  {
   "cell_type": "markdown",
   "metadata": {},
   "source": [
    "Data:"
   ]
  },
  {
   "cell_type": "code",
   "execution_count": 15,
   "metadata": {
    "collapsed": true
   },
   "outputs": [],
   "source": [
    "data2 = np.array([[0, np.nan, 0],\n",
    "                   [0, np.nan, 1],\n",
    "                   [1, np.nan, 0],\n",
    "                   [1, np.nan, 1],\n",
    "                   [1, np.nan, 0],\n",
    "                   [0, np.nan, 1],\n",
    "                   [1, np.nan, 1],\n",
    "                   [1, np.nan, 0]], dtype=str)"
   ]
  },
  {
   "cell_type": "code",
   "execution_count": 6,
   "metadata": {},
   "outputs": [
    {
     "data": {
      "text/plain": [
       "array([['0', '0'],\n",
       "       ['0', '1'],\n",
       "       ['1', '0'],\n",
       "       ['1', '1'],\n",
       "       ['1', '0'],\n",
       "       ['0', '1'],\n",
       "       ['1', '1'],\n",
       "       ['1', '0']], \n",
       "      dtype='|S3')"
      ]
     },
     "execution_count": 6,
     "metadata": {},
     "output_type": "execute_result"
    }
   ],
   "source": [
    "data2[:, [0,2]]"
   ]
  },
  {
   "cell_type": "markdown",
   "metadata": {},
   "source": [
    "Test:"
   ]
  },
  {
   "cell_type": "code",
   "execution_count": 7,
   "metadata": {},
   "outputs": [
    {
     "ename": "NameError",
     "evalue": "name 'MarkovBlanket' is not defined",
     "output_type": "error",
     "traceback": [
      "\u001b[0;31m---------------------------------------------------------------------------\u001b[0m",
      "\u001b[0;31mNameError\u001b[0m                                 Traceback (most recent call last)",
      "\u001b[0;32m<ipython-input-7-e800c0bedd23>\u001b[0m in \u001b[0;36m<module>\u001b[0;34m()\u001b[0m\n\u001b[0;32m----> 1\u001b[0;31m \u001b[0mmb2\u001b[0m \u001b[0;34m=\u001b[0m \u001b[0mMarkovBlanket\u001b[0m\u001b[0;34m(\u001b[0m\u001b[0;36m1\u001b[0m\u001b[0;34m)\u001b[0m\u001b[0;34m\u001b[0m\u001b[0m\n\u001b[0m\u001b[1;32m      2\u001b[0m \u001b[0mmb2\u001b[0m\u001b[0;34m.\u001b[0m\u001b[0mpopulate\u001b[0m\u001b[0;34m(\u001b[0m\u001b[0mtest_model2\u001b[0m\u001b[0;34m)\u001b[0m\u001b[0;34m\u001b[0m\u001b[0m\n\u001b[1;32m      3\u001b[0m \u001b[0mmb2\u001b[0m\u001b[0;34m.\u001b[0m\u001b[0mcalculate_prob\u001b[0m\u001b[0;34m(\u001b[0m\u001b[0mtest_model2\u001b[0m\u001b[0;34m)\u001b[0m\u001b[0;34m\u001b[0m\u001b[0m\n",
      "\u001b[0;31mNameError\u001b[0m: name 'MarkovBlanket' is not defined"
     ]
    }
   ],
   "source": [
    "mb2 = MarkovBlanket(1)\n",
    "mb2.populate(test_model2)\n",
    "mb2.calculate_prob(test_model2)"
   ]
  },
  {
   "cell_type": "code",
   "execution_count": 86,
   "metadata": {},
   "outputs": [
    {
     "data": {
      "text/plain": [
       "{1: {(0, 0): 0.4, (0, 1): 0.6, (1, 0): 0.3, (1, 1): 0.7},\n",
       " 2: {(0, 0): 0.6, (0, 1): 0.4, (1, 0): 0.5, (1, 1): 0.5}}"
      ]
     },
     "execution_count": 86,
     "metadata": {},
     "output_type": "execute_result"
    }
   ],
   "source": [
    "mb2.prob_table"
   ]
  },
  {
   "cell_type": "code",
   "execution_count": 87,
   "metadata": {
    "collapsed": true
   },
   "outputs": [],
   "source": [
    "expected_counts2 = create_expected_counts(test_model2, mb2) "
   ]
  },
  {
   "cell_type": "code",
   "execution_count": 88,
   "metadata": {},
   "outputs": [
    {
     "data": {
      "text/plain": [
       "{(0, 0, 0): 0,\n",
       " (0, 0, 1): 0,\n",
       " (0, 1, 0): 0,\n",
       " (0, 1, 1): 0,\n",
       " (1, 0, 0): 0,\n",
       " (1, 0, 1): 0,\n",
       " (1, 1, 0): 0,\n",
       " (1, 1, 1): 0}"
      ]
     },
     "execution_count": 88,
     "metadata": {},
     "output_type": "execute_result"
    }
   ],
   "source": [
    "expected_counts2"
   ]
  },
  {
   "cell_type": "code",
   "execution_count": 110,
   "metadata": {},
   "outputs": [
    {
     "name": "stdout",
     "output_type": "stream",
     "text": [
      "{(0, 1): 0.46, (1, 0): 0.53, (0, 0): 0.54, (1, 1): 0.47}\n"
     ]
    }
   ],
   "source": [
    "expected_counts2 = update_expected_counts(expected_counts2, test_model2, mb2)"
   ]
  },
  {
   "cell_type": "code",
   "execution_count": 111,
   "metadata": {},
   "outputs": [
    {
     "data": {
      "text/plain": [
       "{(0, 0, 0): 0.4444444444444444,\n",
       " (0, 0, 1): 0.3478260869565218,\n",
       " (0, 1, 0): 0.33962264150943394,\n",
       " (0, 1, 1): 0.2553191489361702,\n",
       " (1, 0, 0): 0.5555555555555555,\n",
       " (1, 0, 1): 0.6521739130434782,\n",
       " (1, 1, 0): 0.660377358490566,\n",
       " (1, 1, 1): 0.7446808510638298}"
      ]
     },
     "execution_count": 111,
     "metadata": {},
     "output_type": "execute_result"
    }
   ],
   "source": [
    "expected_counts2"
   ]
  },
  {
   "cell_type": "code",
   "execution_count": 105,
   "metadata": {},
   "outputs": [
    {
     "data": {
      "text/plain": [
       "[0]"
      ]
     },
     "execution_count": 105,
     "metadata": {},
     "output_type": "execute_result"
    }
   ],
   "source": [
    "mb2.parents"
   ]
  },
  {
   "cell_type": "markdown",
   "metadata": {},
   "source": [
    "## Building the EM"
   ]
  },
  {
   "cell_type": "markdown",
   "metadata": {},
   "source": [
    "Steps:\n",
    "1. Initialize parameters with near uniform values.\n",
    "2. Build the model with the initialized parameters. \n",
    "3. Expectation: Calculate the expected counts for the hidden variables. Update the data for the hidden variables. \n",
    "4. Maximization: Calculate MLE for all parameters by summing over expected counts. \n",
    "5. Update the model with the new parameter values.\n",
    "6. Iterate 3-5 until converges.\n"
   ]
  },
  {
   "cell_type": "code",
   "execution_count": 16,
   "metadata": {
    "collapsed": true
   },
   "outputs": [],
   "source": [
    "def search_hidden(data):\n",
    "    \"\"\"Returns the column index of the hidden node if only one column of NaN.\n",
    "    \n",
    "    Parameters\n",
    "    ----------\n",
    "    data : An ndarray (n_sample, n_nodes)\n",
    "    \n",
    "    Returns\n",
    "    -------\n",
    "    ind_h : the index of the hidden node column\n",
    "    \"\"\"\n",
    "    is_col_nan = np.all(np.isnan(data), axis=0)\n",
    "    ind = np.where(is_col_nan)\n",
    "    if np.size(ind)==1:\n",
    "        ind_h = ind[0][0]\n",
    "    else:\n",
    "        raise ValueError('Data contains more than one hidden nodes or no hidden node')\n",
    "    return ind_h\n",
    "    "
   ]
  },
  {
   "cell_type": "code",
   "execution_count": 17,
   "metadata": {
    "collapsed": true
   },
   "outputs": [],
   "source": [
    "class MarkovBlanket():\n",
    "    \n",
    "    def __init__(self, ind_h):\n",
    "        self.hidden = ind_h\n",
    "        self.parents = []\n",
    "        self.children = []\n",
    "        self.coparents = []\n",
    "        self.prob_table = {}\n",
    "        \n",
    "    def populate(self, model):\n",
    "        state_indices = {state.name : i for i, state in enumerate(model.states)}\n",
    "        \n",
    "        edges_list = [(parent.name, child.name) for parent, child in model.edges]\n",
    "        edges_list = [(state_indices[parent],state_indices[child]) \n",
    "                  for parent, child in edges_list]\n",
    "        \n",
    "        self.children = list(set([child for parent, child in edges_list if parent==self.hidden]))\n",
    "        self.parents = list(set([parent for parent, child in edges_list if child==self.hidden]))\n",
    "        self.coparents = list(set([parent for parent, child in edges_list if child in self.children]))\n",
    "        try:\n",
    "            self.coparents.remove(self.hidden)\n",
    "        except ValueError:\n",
    "            pass\n",
    "            \n",
    "    def calculate_prob(self, model):\n",
    "        \"\"\"Create the probability table from states\n",
    "        \"\"\"\n",
    "        for ind_state in [self.hidden]+self.children:\n",
    "            distribution = model.states[ind_state].distribution\n",
    "            \n",
    "            if isinstance(distribution, ConditionalProbabilityTable):\n",
    "                table = distribution.parameters[0]\n",
    "                self.prob_table[ind_state] = {tuple(row[:-1]) : row[-1] for row in table}\n",
    "            else:\n",
    "                self.prob_table[ind_state] = distribution.parameters[0]\n",
    "                \n",
    "    def update_prob(self, model, expected_counts, ct):\n",
    "        \"\"\"Update the probability table using expected counts\n",
    "        \"\"\"\n",
    "        ind = {x : i for i, x in enumerate([mb.hidden] + mb.parents + mb.children + mb.coparents)}\n",
    "        \n",
    "        for ind_state in [mb.hidden] + mb.children:\n",
    "            distribution = model.states[ind_state].distribution\n",
    "            \n",
    "            if isinstance(distribution, ConditionalProbabilityTable):\n",
    "                parents = distribution.column_idxs\n",
    "                table = self.prob_table[ind_state] # dict\n",
    "                \n",
    "                for key in table.keys():\n",
    "                    # calculate the new parameter for this key\n",
    "                    \n",
    "        \n",
    "        "
   ]
  },
  {
   "cell_type": "code",
   "execution_count": 18,
   "metadata": {
    "collapsed": true
   },
   "outputs": [],
   "source": [
    "class ExpectedCounts():\n",
    "    \n",
    "    def __init__(self, model, mb):\n",
    "        self.counts = {}\n",
    "        \n",
    "        self.populate(model, mb)\n",
    "        \n",
    "    def populate(self, model, mb):\n",
    "        #create combinations of keys\n",
    "        keys_list = [model.states[mb.hidden].distribution.keys()]\n",
    "        for ind in mb.parents + mb.children + mb.coparents:\n",
    "            keys_list.append(model.states[ind].distribution.keys())\n",
    "        \n",
    "        self.counts = {p:0 for p in itertools.product(*keys_list)}\n",
    "        \n",
    "    def update(self, model, mb):\n",
    "        ind = {x : i for i, x in enumerate([mb.hidden] + mb.parents + mb.children + mb.coparents)}\n",
    "    \n",
    "        marginal_prob = {}\n",
    "    \n",
    "        # calculate joint probability and marginal probability\n",
    "        for i, key in enumerate(self.counts.keys()):\n",
    "            prob = 1\n",
    "        \n",
    "            for j, ind_state in enumerate([mb.hidden] + mb.children):\n",
    "                distribution = model.states[ind_state].distribution\n",
    "            \n",
    "                if isinstance(distribution, ConditionalProbabilityTable):\n",
    "                    idxs = distribution.column_idxs\n",
    "                    state_key = tuple([key[ind[x]] for x in idxs])\n",
    "                else:\n",
    "                    state_key = key[ind[ind_state]]\n",
    "                \n",
    "                prob = prob*mb.prob_table[ind_state][state_key]         \n",
    "                self.counts[key] = prob\n",
    "            try:\n",
    "                marginal_prob[key[1:]] += prob\n",
    "            except KeyError:\n",
    "                marginal_prob[key[1:]] = prob\n",
    "                 \n",
    "        # divide the joint prob by the marginal prob to get the conditional\n",
    "        for i, key in enumerate(self.counts.keys()):\n",
    "            self.counts[key] = self.counts[key]/marginal_prob[key[1:]]\n",
    "    \n",
    "        "
   ]
  },
  {
   "cell_type": "code",
   "execution_count": 19,
   "metadata": {
    "collapsed": true
   },
   "outputs": [],
   "source": [
    "class CountTable():\n",
    "    \n",
    "    def __init__(self, model, mb, items):\n",
    "        self.table ={}\n",
    "        \n",
    "        self.populate(model, mb, items)\n",
    "        \n",
    "    def populate(self, model, mb, items):\n",
    "        keys_list = []\n",
    "        for ind in mb.parents + mb.children + mb.coparents:\n",
    "            keys_list.append(model.states[ind].distribution.keys())\n",
    "        \n",
    "        # init\n",
    "        self.table = {p:0 for p in itertools.product(*keys_list)}\n",
    "        \n",
    "        # count\n",
    "        for i, row in enumerate(items):\n",
    "            try:\n",
    "                self.table[tuple(row)] += 1\n",
    "            except KeyError:\n",
    "                print 'Items in row', i, 'does not match the set of keys.'\n",
    "                raise KeyError\n",
    "    "
   ]
  },
  {
   "cell_type": "code",
   "execution_count": 20,
   "metadata": {
    "collapsed": true
   },
   "outputs": [],
   "source": [
    "def update_nodes(model, mb, ct):\n",
    "    \"\"\"Update parameters for hidden and children nodes\n",
    "    \"\"\"\n",
    "    for ind_state in [mb.hidden] + mb.children:\n",
    "        distribution = model.states[ind_state]\n",
    "        \n",
    "        if isinstance(distribution, ConditionalProbabilityTable):\n",
    "            idxs = distribution.column_idxs\n",
    "            \n",
    "    "
   ]
  },
  {
   "cell_type": "code",
   "execution_count": null,
   "metadata": {
    "collapsed": true
   },
   "outputs": [],
   "source": []
  },
  {
   "cell_type": "code",
   "execution_count": 29,
   "metadata": {
    "collapsed": true
   },
   "outputs": [],
   "source": [
    "test_model2.states[1].distribution.parameters[0][0][2] = 0.5"
   ]
  },
  {
   "cell_type": "code",
   "execution_count": 33,
   "metadata": {
    "collapsed": true
   },
   "outputs": [],
   "source": [
    "test_model2.states[2].distribution.parameters[0][0][2] = 0.55"
   ]
  },
  {
   "cell_type": "code",
   "execution_count": 60,
   "metadata": {},
   "outputs": [
    {
     "data": {
      "text/plain": [
       "[[['0', '0', 0.55], ['0', '1', 0.4], ['1', '0', 0.5], ['1', '1', 0.5]], [{\n",
       "      \"table\" : [\n",
       "          [\n",
       "              \"1\",\n",
       "              \"1\",\n",
       "              \"0.7\"\n",
       "          ],\n",
       "          [\n",
       "              \"1\",\n",
       "              \"0\",\n",
       "              \"0.3\"\n",
       "          ],\n",
       "          [\n",
       "              \"0\",\n",
       "              \"1\",\n",
       "              \"0.6\"\n",
       "          ],\n",
       "          [\n",
       "              \"0\",\n",
       "              \"0\",\n",
       "              \"0.4\"\n",
       "          ]\n",
       "      ],\n",
       "      \"parents\" : [\n",
       "          {\n",
       "              \"frozen\" : false,\n",
       "              \"class\" : \"Distribution\",\n",
       "              \"parameters\" : [\n",
       "                  {\n",
       "                      \"1\" : 0.2,\n",
       "                      \"0\" : 0.8\n",
       "                  }\n",
       "              ],\n",
       "              \"name\" : \"DiscreteDistribution\"\n",
       "          }\n",
       "      ],\n",
       "      \"class\" : \"Distribution\",\n",
       "      \"name\" : \"ConditionalProbabilityTable\"\n",
       "  }]]"
      ]
     },
     "execution_count": 60,
     "metadata": {},
     "output_type": "execute_result"
    }
   ],
   "source": [
    "test_model2.states[2].distribution.parameters"
   ]
  },
  {
   "cell_type": "code",
   "execution_count": 58,
   "metadata": {
    "collapsed": true
   },
   "outputs": [],
   "source": [
    "test_model2.bake()"
   ]
  },
  {
   "cell_type": "code",
   "execution_count": 59,
   "metadata": {},
   "outputs": [
    {
     "data": {
      "text/plain": [
       "[[['0', '0', 0.5], ['0', '1', 0.6], ['1', '0', 0.3], ['1', '1', 0.7]], [{\n",
       "      \"frozen\" :false,\n",
       "      \"class\" :\"Distribution\",\n",
       "      \"parameters\" :[\n",
       "          {\n",
       "              \"1\" :0.2,\n",
       "              \"0\" :0.8\n",
       "          }\n",
       "      ],\n",
       "      \"name\" :\"DiscreteDistribution\"\n",
       "  }]]"
      ]
     },
     "execution_count": 59,
     "metadata": {},
     "output_type": "execute_result"
    }
   ],
   "source": [
    "test_model2.states[1].distribution.parameters"
   ]
  },
  {
   "cell_type": "code",
   "execution_count": 17,
   "metadata": {
    "collapsed": true
   },
   "outputs": [],
   "source": [
    "mb = MarkovBlanket(1)\n",
    "mb.populate(test_model2)\n",
    "mb.calculate_prob(test_model2)"
   ]
  },
  {
   "cell_type": "code",
   "execution_count": 15,
   "metadata": {
    "collapsed": true
   },
   "outputs": [],
   "source": [
    "items = data2[:, [0,2]]"
   ]
  },
  {
   "cell_type": "code",
   "execution_count": 18,
   "metadata": {
    "collapsed": true
   },
   "outputs": [],
   "source": [
    "table = CountTable(test_model2, mb, items)"
   ]
  },
  {
   "cell_type": "code",
   "execution_count": 19,
   "metadata": {},
   "outputs": [
    {
     "data": {
      "text/plain": [
       "{('0', '0'): 1, ('0', '1'): 2, ('1', '0'): 3, ('1', '1'): 2}"
      ]
     },
     "execution_count": 19,
     "metadata": {},
     "output_type": "execute_result"
    }
   ],
   "source": [
    "table.table"
   ]
  },
  {
   "cell_type": "code",
   "execution_count": 25,
   "metadata": {},
   "outputs": [
    {
     "data": {
      "text/plain": [
       "'1'"
      ]
     },
     "execution_count": 25,
     "metadata": {},
     "output_type": "execute_result"
    }
   ],
   "source": [
    "table.table.keys()[0][0]"
   ]
  },
  {
   "cell_type": "code",
   "execution_count": 29,
   "metadata": {
    "collapsed": true
   },
   "outputs": [],
   "source": [
    "mb = MarkovBlanket(2)"
   ]
  },
  {
   "cell_type": "code",
   "execution_count": 30,
   "metadata": {
    "collapsed": true
   },
   "outputs": [],
   "source": [
    "mb.populate(model)"
   ]
  },
  {
   "cell_type": "code",
   "execution_count": 31,
   "metadata": {
    "collapsed": true
   },
   "outputs": [],
   "source": [
    "mb.calculate_prob(model)"
   ]
  },
  {
   "cell_type": "code",
   "execution_count": 53,
   "metadata": {},
   "outputs": [
    {
     "data": {
      "text/plain": [
       "{('f', 'long'): 0.5, ('f', 'sh'): 0.5, ('m', 'long'): 0.5, ('m', 'sh'): 0.5}"
      ]
     },
     "execution_count": 53,
     "metadata": {},
     "output_type": "execute_result"
    }
   ],
   "source": [
    "mb.prob_table[3]"
   ]
  },
  {
   "cell_type": "code",
   "execution_count": 50,
   "metadata": {
    "collapsed": true
   },
   "outputs": [],
   "source": [
    "expected_counts = create_expected_counts(model, mb)"
   ]
  },
  {
   "cell_type": "code",
   "execution_count": 52,
   "metadata": {},
   "outputs": [
    {
     "data": {
      "text/plain": [
       "{('f', 'short', 'high', 'long'): 0.25,\n",
       " ('f', 'short', 'high', 'sh'): 0.25,\n",
       " ('f', 'short', 'low', 'long'): 0.25,\n",
       " ('f', 'short', 'low', 'sh'): 0.25,\n",
       " ('f', 'tall', 'high', 'long'): 0.25,\n",
       " ('f', 'tall', 'high', 'sh'): 0.25,\n",
       " ('f', 'tall', 'low', 'long'): 0.25,\n",
       " ('f', 'tall', 'low', 'sh'): 0.25,\n",
       " ('m', 'short', 'high', 'long'): 0.25,\n",
       " ('m', 'short', 'high', 'sh'): 0.25,\n",
       " ('m', 'short', 'low', 'long'): 0.25,\n",
       " ('m', 'short', 'low', 'sh'): 0.25,\n",
       " ('m', 'tall', 'high', 'long'): 0.25,\n",
       " ('m', 'tall', 'high', 'sh'): 0.25,\n",
       " ('m', 'tall', 'low', 'long'): 0.25,\n",
       " ('m', 'tall', 'low', 'sh'): 0.25}"
      ]
     },
     "execution_count": 52,
     "metadata": {},
     "output_type": "execute_result"
    }
   ],
   "source": [
    "expected_counts"
   ]
  },
  {
   "cell_type": "code",
   "execution_count": 12,
   "metadata": {},
   "outputs": [
    {
     "data": {
      "text/plain": [
       "array([0, 1, 2], dtype=int32)"
      ]
     },
     "execution_count": 12,
     "metadata": {},
     "output_type": "execute_result"
    }
   ],
   "source": [
    "model.states[2].distribution.column_idxs"
   ]
  },
  {
   "cell_type": "code",
   "execution_count": 18,
   "metadata": {},
   "outputs": [
    {
     "data": {
      "text/plain": [
       "[['short', 'low', 'm', 0.5],\n",
       " ['short', 'low', 'f', 0.5],\n",
       " ['short', 'high', 'm', 0.5],\n",
       " ['short', 'high', 'f', 0.5],\n",
       " ['tall', 'low', 'm', 0.5],\n",
       " ['tall', 'low', 'f', 0.5],\n",
       " ['tall', 'high', 'm', 0.5],\n",
       " ['tall', 'high', 'f', 0.5]]"
      ]
     },
     "execution_count": 18,
     "metadata": {},
     "output_type": "execute_result"
    }
   ],
   "source": [
    "model.states[2].distribution.parameters[0]"
   ]
  },
  {
   "cell_type": "code",
   "execution_count": 14,
   "metadata": {},
   "outputs": [
    {
     "data": {
      "text/plain": [
       "[('m', 'tall', 'low', 'sh'),\n",
       " ('f', 'tall', 'high', 'long'),\n",
       " ('m', 'short', 'low', 'sh'),\n",
       " ('f', 'tall', 'low', 'long'),\n",
       " ('f', 'short', 'low', 'long'),\n",
       " ('f', 'tall', 'high', 'sh'),\n",
       " ('m', 'tall', 'low', 'long'),\n",
       " ('f', 'tall', 'low', 'sh'),\n",
       " ('m', 'short', 'low', 'long'),\n",
       " ('f', 'short', 'high', 'long'),\n",
       " ('m', 'tall', 'high', 'long'),\n",
       " ('f', 'short', 'high', 'sh'),\n",
       " ('m', 'short', 'high', 'long'),\n",
       " ('f', 'short', 'low', 'sh'),\n",
       " ('m', 'tall', 'high', 'sh'),\n",
       " ('m', 'short', 'high', 'sh')]"
      ]
     },
     "execution_count": 14,
     "metadata": {},
     "output_type": "execute_result"
    }
   ],
   "source": [
    "expected_counts.keys()"
   ]
  },
  {
   "cell_type": "code",
   "execution_count": 51,
   "metadata": {},
   "outputs": [
    {
     "data": {
      "text/plain": [
       "{('f', 'short', 'high', 'long'): 0,\n",
       " ('f', 'short', 'high', 'sh'): 0,\n",
       " ('f', 'short', 'low', 'long'): 0,\n",
       " ('f', 'short', 'low', 'sh'): 0,\n",
       " ('f', 'tall', 'high', 'long'): 0,\n",
       " ('f', 'tall', 'high', 'sh'): 0,\n",
       " ('f', 'tall', 'low', 'long'): 0,\n",
       " ('f', 'tall', 'low', 'sh'): 0,\n",
       " ('m', 'short', 'high', 'long'): 0,\n",
       " ('m', 'short', 'high', 'sh'): 0,\n",
       " ('m', 'short', 'low', 'long'): 0,\n",
       " ('m', 'short', 'low', 'sh'): 0,\n",
       " ('m', 'tall', 'high', 'long'): 0,\n",
       " ('m', 'tall', 'high', 'sh'): 0,\n",
       " ('m', 'tall', 'low', 'long'): 0,\n",
       " ('m', 'tall', 'low', 'sh'): 0}"
      ]
     },
     "execution_count": 51,
     "metadata": {},
     "output_type": "execute_result"
    }
   ],
   "source": [
    "expected_counts"
   ]
  },
  {
   "cell_type": "code",
   "execution_count": 12,
   "metadata": {
    "collapsed": true
   },
   "outputs": [],
   "source": [
    "state_indices = {state.name : i for i, state in enumerate(model.states)}\n",
    "parents, children, coparents = markov_blanket(model,2,state_indices)"
   ]
  },
  {
   "cell_type": "code",
   "execution_count": 53,
   "metadata": {},
   "outputs": [
    {
     "name": "stdout",
     "output_type": "stream",
     "text": [
      "('tall', 'short')\n",
      "('high', 'low')\n",
      "('m', 'f')\n",
      "('sh', 'long')\n"
     ]
    }
   ],
   "source": [
    "for state in model.states:\n",
    "    print state.distribution.keys()"
   ]
  },
  {
   "cell_type": "code",
   "execution_count": 52,
   "metadata": {},
   "outputs": [
    {
     "name": "stdout",
     "output_type": "stream",
     "text": [
      "coparents: set([2])\n"
     ]
    },
    {
     "data": {
      "text/plain": [
       "[0, 1, 2, 3]"
      ]
     },
     "execution_count": 52,
     "metadata": {},
     "output_type": "execute_result"
    }
   ],
   "source": [
    "get_markov_blanket(model, 2, state_indices)"
   ]
  },
  {
   "cell_type": "code",
   "execution_count": 34,
   "metadata": {
    "collapsed": true
   },
   "outputs": [],
   "source": [
    "state_indices = {state.name : i for i, state in enumerate(model.states)}"
   ]
  },
  {
   "cell_type": "code",
   "execution_count": 29,
   "metadata": {},
   "outputs": [
    {
     "name": "stdout",
     "output_type": "stream",
     "text": [
      "height --> sex\n",
      "weight --> sex\n",
      "sex --> hair\n"
     ]
    }
   ],
   "source": [
    "for parent, child in model.edges:\n",
    "    print parent.name,'-->',child.name"
   ]
  },
  {
   "cell_type": "code",
   "execution_count": 8,
   "metadata": {
    "collapsed": true
   },
   "outputs": [],
   "source": [
    "###DEPRICATED\n",
    "\n",
    "def create_expected_counts(model, mb):\n",
    "    \"\"\"Returns a dict of expected counts of the hidden node init to zeros\n",
    "    \n",
    "    Parameter\n",
    "    ---------\n",
    "    model : BayesianNetwork object\n",
    "    \n",
    "    mb : MarkovBlanket object\n",
    "        \n",
    "    Returns\n",
    "    -------\n",
    "    counts : dict\n",
    "    \"\"\"\n",
    "    #create combinations of keys\n",
    "    keys_list = [model.states[mb.hidden].distribution.keys()]\n",
    "    for ind in mb.parents + mb.children + mb.coparents:\n",
    "        keys_list.append(model.states[ind].distribution.keys())\n",
    "        \n",
    "    counts = {p:0 for p in itertools.product(*keys_list)}\n",
    "    \n",
    "    return counts\n",
    "\n",
    "def update_expected_counts(expected_counts, model, mb):\n",
    "    \"\"\"Returns a dict of updated expected counts of the hidden node\n",
    "    \n",
    "    Parameter\n",
    "    ---------\n",
    "    expected_counts : dict\n",
    "    \n",
    "    model : BayesianNetwork object\n",
    "    \n",
    "    mb : MarkovBlanket object\n",
    "        \n",
    "    Returns\n",
    "    -------\n",
    "    expected_counts : dict\n",
    "    \n",
    "    \"\"\"         \n",
    "    ind = {x : i for i, x in enumerate([mb.hidden] + mb.parents + mb.children + mb.coparents)}\n",
    "    \n",
    "    marginal_prob = {}\n",
    "    \n",
    "    # calculate joint probability and marginal probability\n",
    "    for i, key in enumerate(expected_counts.keys()):\n",
    "        prob = 1\n",
    "        \n",
    "        for j, ind_state in enumerate([mb.hidden] + mb.children):\n",
    "            distribution = model.states[ind_state].distribution\n",
    "            \n",
    "            if isinstance(distribution, ConditionalProbabilityTable):\n",
    "                idxs = distribution.column_idxs\n",
    "                state_key = tuple([key[ind[x]] for x in idxs])\n",
    "            else:\n",
    "                state_key = key[ind[ind_state]]\n",
    "                \n",
    "            prob = prob*mb.prob_table[ind_state][state_key]         \n",
    "            expected_counts[key] = prob\n",
    "        try:\n",
    "            marginal_prob[key[1:]] += prob\n",
    "        except KeyError:\n",
    "            marginal_prob[key[1:]] = prob\n",
    "                 \n",
    "    # divide the joint prob by the marginal prob to get the conditional\n",
    "    for i, key in enumerate(expected_counts.keys()):\n",
    "        expected_counts[key] = expected_counts[key]/marginal_prob[key[1:]]\n",
    "            \n",
    "    return expected_counts\n",
    "    "
   ]
  },
  {
   "cell_type": "code",
   "execution_count": 70,
   "metadata": {
    "collapsed": true
   },
   "outputs": [],
   "source": [
    "# EM algorithm for hidden variables assuming Bernoulli Distribution (not supporting missing cells)\n",
    "\n",
    "def em(model, data, max_iter):\n",
    "    \"\"\"Returns a model with added parameters for hidden nodes.\n",
    "    \n",
    "    Parameters\n",
    "    ----------\n",
    "    model : A BayesianNetwork object\n",
    "    \n",
    "    data : array-like, shape (n_sample, n_nodes)\n",
    "        The data array where each row is a sample and each column represents a node.\n",
    "        The order of the columns should be the same as the order for the nodes in \n",
    "        the model. Hidden nodes should have NaN values.\n",
    "    \n",
    "    max_iter : int\n",
    "        The maximum number of iterations to run the EM algorithm for.\n",
    "        \n",
    "    Returns\n",
    "    -------\n",
    "    model : A BayesianNetwork object\n",
    "    \n",
    "    \"\"\"\n",
    "    \n",
    "    # all possible values of data\n",
    "    data_perm = [x for x in itertools.combinations_with_replacement([1,0], len(vis_nodes))]\n",
    "    expected_count = dict.fromkeys(hidden_nodes,{})\n",
    "    \n",
    "    for _ in xrange(max_iter):\n",
    "        \n",
    "        # calculate expected counts\n",
    "        for perm in data_perm: \n",
    "            conditional_prob = model.predict_proba(dict(zip(vis_nodes,perm)))\n",
    "            for i, node in enumerate(hidden_nodes):\n",
    "                expected_count[node][perm] = conditional_prob[ind_hidden_nodes[i]].probability(1)\n",
    "        \n",
    "        # summing over expected counts\n",
    "        \n",
    "        \n",
    "        # update the parameters  \n",
    "        \n",
    "    \n"
   ]
  },
  {
   "cell_type": "code",
   "execution_count": 17,
   "metadata": {
    "collapsed": true
   },
   "outputs": [],
   "source": [
    "x = np.asarray([[1,np.nan],[2,np.nan]])"
   ]
  },
  {
   "cell_type": "code",
   "execution_count": 14,
   "metadata": {},
   "outputs": [
    {
     "data": {
      "text/plain": [
       "array([[False,  True],\n",
       "       [False,  True]], dtype=bool)"
      ]
     },
     "execution_count": 14,
     "metadata": {},
     "output_type": "execute_result"
    }
   ],
   "source": [
    "np.isnan(x)"
   ]
  },
  {
   "cell_type": "code",
   "execution_count": 21,
   "metadata": {
    "collapsed": true
   },
   "outputs": [],
   "source": [
    "col_list = np.all(np.isnan(x),axis=0)"
   ]
  },
  {
   "cell_type": "code",
   "execution_count": 40,
   "metadata": {},
   "outputs": [
    {
     "data": {
      "text/plain": [
       "array([False,  True], dtype=bool)"
      ]
     },
     "execution_count": 40,
     "metadata": {},
     "output_type": "execute_result"
    }
   ],
   "source": [
    "col_list"
   ]
  },
  {
   "cell_type": "code",
   "execution_count": 36,
   "metadata": {
    "collapsed": true
   },
   "outputs": [],
   "source": [
    "ind = np.where(col_list)"
   ]
  },
  {
   "cell_type": "code",
   "execution_count": 44,
   "metadata": {},
   "outputs": [
    {
     "data": {
      "text/plain": [
       "1"
      ]
     },
     "execution_count": 44,
     "metadata": {},
     "output_type": "execute_result"
    }
   ],
   "source": [
    "ind[0][0]"
   ]
  },
  {
   "cell_type": "code",
   "execution_count": 29,
   "metadata": {},
   "outputs": [
    {
     "data": {
      "text/plain": [
       "1"
      ]
     },
     "execution_count": 29,
     "metadata": {},
     "output_type": "execute_result"
    }
   ],
   "source": [
    "np.size(ind)"
   ]
  },
  {
   "cell_type": "code",
   "execution_count": 48,
   "metadata": {},
   "outputs": [
    {
     "data": {
      "text/plain": [
       "{'a': {}, 'b': {}}"
      ]
     },
     "execution_count": 48,
     "metadata": {},
     "output_type": "execute_result"
    }
   ],
   "source": [
    "dict.fromkeys(['a','b'],{})"
   ]
  },
  {
   "cell_type": "code",
   "execution_count": 52,
   "metadata": {},
   "outputs": [
    {
     "data": {
      "text/plain": [
       "2"
      ]
     },
     "execution_count": 52,
     "metadata": {},
     "output_type": "execute_result"
    }
   ],
   "source": [
    "test_model.node_count()"
   ]
  },
  {
   "cell_type": "code",
   "execution_count": 51,
   "metadata": {},
   "outputs": [
    {
     "ename": "AttributeError",
     "evalue": "'tuple' object has no attribute 'shape'",
     "output_type": "error",
     "traceback": [
      "\u001b[0;31m---------------------------------------------------------------------------\u001b[0m",
      "\u001b[0;31mAttributeError\u001b[0m                            Traceback (most recent call last)",
      "\u001b[0;32m<ipython-input-51-f1177c9f757a>\u001b[0m in \u001b[0;36m<module>\u001b[0;34m()\u001b[0m\n\u001b[0;32m----> 1\u001b[0;31m \u001b[0mnp\u001b[0m\u001b[0;34m.\u001b[0m\u001b[0mwhere\u001b[0m\u001b[0;34m(\u001b[0m\u001b[0mnp\u001b[0m\u001b[0;34m.\u001b[0m\u001b[0masarray\u001b[0m\u001b[0;34m(\u001b[0m\u001b[0;34m[\u001b[0m\u001b[0;36m1\u001b[0m\u001b[0;34m,\u001b[0m\u001b[0;36m0\u001b[0m\u001b[0;34m,\u001b[0m\u001b[0;36m1\u001b[0m\u001b[0;34m,\u001b[0m\u001b[0;36m0\u001b[0m\u001b[0;34m]\u001b[0m\u001b[0;34m)\u001b[0m\u001b[0;34m)\u001b[0m\u001b[0;34m.\u001b[0m\u001b[0mshape\u001b[0m\u001b[0;34m(\u001b[0m\u001b[0;34m)\u001b[0m\u001b[0;34m\u001b[0m\u001b[0m\n\u001b[0m",
      "\u001b[0;31mAttributeError\u001b[0m: 'tuple' object has no attribute 'shape'"
     ]
    }
   ],
   "source": [
    "np.where(np.asarray([1,0,1,0]))"
   ]
  },
  {
   "cell_type": "code",
   "execution_count": 57,
   "metadata": {},
   "outputs": [
    {
     "data": {
      "text/plain": [
       "array([0, 3])"
      ]
     },
     "execution_count": 57,
     "metadata": {},
     "output_type": "execute_result"
    }
   ],
   "source": [
    "np.arange(10)[([0,3])]"
   ]
  },
  {
   "cell_type": "code",
   "execution_count": 38,
   "metadata": {},
   "outputs": [
    {
     "data": {
      "text/plain": [
       "[(1, 1), (0, 0)]"
      ]
     },
     "execution_count": 38,
     "metadata": {},
     "output_type": "execute_result"
    }
   ],
   "source": [
    "zip([1,0],[1,0])"
   ]
  },
  {
   "cell_type": "code",
   "execution_count": 43,
   "metadata": {},
   "outputs": [
    {
     "data": {
      "text/plain": [
       "[1, 0, 1, 0]"
      ]
     },
     "execution_count": 43,
     "metadata": {},
     "output_type": "execute_result"
    }
   ],
   "source": [
    "[1,0]*2"
   ]
  },
  {
   "cell_type": "code",
   "execution_count": 44,
   "metadata": {},
   "outputs": [
    {
     "data": {
      "text/plain": [
       "[(1, 1, 1),\n",
       " (1, 1, 0),\n",
       " (1, 0, 1),\n",
       " (1, 0, 0),\n",
       " (0, 1, 1),\n",
       " (0, 1, 0),\n",
       " (0, 0, 1),\n",
       " (0, 0, 0)]"
      ]
     },
     "execution_count": 44,
     "metadata": {},
     "output_type": "execute_result"
    }
   ],
   "source": [
    "[x for x in itertools.product([1,0],[1,0],[1,0])]"
   ]
  },
  {
   "cell_type": "code",
   "execution_count": 50,
   "metadata": {},
   "outputs": [
    {
     "data": {
      "text/plain": [
       "[(1, 1, 1), (1, 1, 0), (1, 0, 0), (0, 0, 0)]"
      ]
     },
     "execution_count": 50,
     "metadata": {},
     "output_type": "execute_result"
    }
   ],
   "source": [
    "[x for x in itertools.combinations_with_replacement([1,0],3)]"
   ]
  },
  {
   "cell_type": "code",
   "execution_count": 41,
   "metadata": {
    "collapsed": true
   },
   "outputs": [],
   "source": [
    "data_perm = [x for x in itertools.combinations_with_replacement([1,0], 2)]"
   ]
  },
  {
   "cell_type": "code",
   "execution_count": 42,
   "metadata": {},
   "outputs": [
    {
     "data": {
      "text/plain": [
       "[(1, 1), (1, 0), (0, 0)]"
      ]
     },
     "execution_count": 42,
     "metadata": {},
     "output_type": "execute_result"
    }
   ],
   "source": [
    "data_perm"
   ]
  },
  {
   "cell_type": "code",
   "execution_count": 46,
   "metadata": {},
   "outputs": [
    {
     "data": {
      "text/plain": [
       "{'A': 1, 'B': 1}"
      ]
     },
     "execution_count": 46,
     "metadata": {},
     "output_type": "execute_result"
    }
   ],
   "source": [
    "dict(zip(name_list,data_perm[0]))"
   ]
  },
  {
   "cell_type": "code",
   "execution_count": 68,
   "metadata": {
    "collapsed": true
   },
   "outputs": [],
   "source": [
    "data = np.asarray([[1,np.nan],[0,np.nan]])"
   ]
  },
  {
   "cell_type": "code",
   "execution_count": 73,
   "metadata": {},
   "outputs": [
    {
     "name": "stdout",
     "output_type": "stream",
     "text": [
      "Hidden nodes :  ['B']\n",
      "{'B': {(0,): 0.59999999999999998, (1,): 0.69999999999999984}}\n"
     ]
    }
   ],
   "source": [
    "em(test_model, data, max_iter=1)"
   ]
  },
  {
   "cell_type": "code",
   "execution_count": 30,
   "metadata": {},
   "outputs": [
    {
     "data": {
      "text/plain": [
       "array(['A', 'B'], \n",
       "      dtype='|S1')"
      ]
     },
     "execution_count": 30,
     "metadata": {},
     "output_type": "execute_result"
    }
   ],
   "source": [
    "np.asarray([s.name for s in test_model.states])"
   ]
  },
  {
   "cell_type": "code",
   "execution_count": 16,
   "metadata": {},
   "outputs": [
    {
     "data": {
      "text/plain": [
       "True"
      ]
     },
     "execution_count": 16,
     "metadata": {},
     "output_type": "execute_result"
    }
   ],
   "source": [
    "np.all(np.isnan())"
   ]
  },
  {
   "cell_type": "code",
   "execution_count": 20,
   "metadata": {},
   "outputs": [
    {
     "data": {
      "text/plain": [
       "array([[ True, False],\n",
       "       [ True, False]], dtype=bool)"
      ]
     },
     "execution_count": 20,
     "metadata": {},
     "output_type": "execute_result"
    }
   ],
   "source": [
    "np.isnan(np.asarray([[np.nan,1],[np.nan,0]]))"
   ]
  },
  {
   "cell_type": "code",
   "execution_count": 23,
   "metadata": {},
   "outputs": [
    {
     "data": {
      "text/plain": [
       "array([ True, False], dtype=bool)"
      ]
     },
     "execution_count": 23,
     "metadata": {},
     "output_type": "execute_result"
    }
   ],
   "source": [
    "np.all(np.isnan(np.asarray([[np.nan,1],[np.nan,0]])),axis=0)"
   ]
  }
 ],
 "metadata": {
  "kernelspec": {
   "display_name": "Python 2",
   "language": "python",
   "name": "python2"
  },
  "language_info": {
   "codemirror_mode": {
    "name": "ipython",
    "version": 2
   },
   "file_extension": ".py",
   "mimetype": "text/x-python",
   "name": "python",
   "nbconvert_exporter": "python",
   "pygments_lexer": "ipython2",
   "version": "2.7.13"
  }
 },
 "nbformat": 4,
 "nbformat_minor": 2
}
